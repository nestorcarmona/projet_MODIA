{
 "cells": [
  {
   "attachments": {},
   "cell_type": "markdown",
   "metadata": {},
   "source": [
    "# Imports"
   ]
  },
  {
   "cell_type": "code",
   "execution_count": 1,
   "metadata": {},
   "outputs": [],
   "source": [
    "import pandas as pd\n",
    "import numpy as np\n",
    "import matplotlib.pyplot as plt"
   ]
  },
  {
   "attachments": {},
   "cell_type": "markdown",
   "metadata": {},
   "source": [
    "# Chargement des données"
   ]
  },
  {
   "cell_type": "code",
   "execution_count": 2,
   "metadata": {},
   "outputs": [],
   "source": [
    "interactions_test = pd.read_csv('data/interactions_test.csv')\n",
    "interactions_train = pd.read_csv('data/interactions_train.csv')\n",
    "RAW_interactions = pd.read_csv('data/RAW_interactions.csv')\n",
    "RAW_recipes = pd.read_csv('data/RAW_recipes.csv')"
   ]
  },
  {
   "attachments": {},
   "cell_type": "markdown",
   "metadata": {},
   "source": [
    "# Exploration des données"
   ]
  },
  {
   "attachments": {},
   "cell_type": "markdown",
   "metadata": {},
   "source": [
    "### Affichage du contenu des fichiers"
   ]
  },
  {
   "cell_type": "code",
   "execution_count": 3,
   "metadata": {},
   "outputs": [
    {
     "name": "stdout",
     "output_type": "stream",
     "text": [
      "Interactions train (698901, 6)  | keys : ['user_id', 'recipe_id', 'date', 'rating', 'u', 'i']\n",
      "   user_id  recipe_id        date  rating      u       i\n",
      "0     2046       4684  2000-02-25     5.0  22095   44367\n",
      "1     2046        517  2000-02-25     5.0  22095   87844\n",
      "2     1773       7435  2000-03-13     5.0  24732  138181\n"
     ]
    }
   ],
   "source": [
    "print(f\"Interactions train {interactions_train.shape}  | keys : {interactions_train.keys().to_list()}\")\n",
    "print(interactions_train.head(3))"
   ]
  },
  {
   "cell_type": "code",
   "execution_count": 4,
   "metadata": {},
   "outputs": [
    {
     "name": "stdout",
     "output_type": "stream",
     "text": [
      "Interactions test (12455, 6)   | keys : ['user_id', 'recipe_id', 'date', 'rating', 'u', 'i']\n",
      "   user_id  recipe_id        date  rating   u       i\n",
      "0     8937      44551  2005-12-23     4.0   2  173538\n",
      "1    56680     126118  2006-10-07     4.0  16  177847\n",
      "2   349752     219596  2008-04-12     0.0  26   89896\n"
     ]
    }
   ],
   "source": [
    "print(f\"Interactions test {interactions_test.shape}   | keys : {interactions_test.keys().to_list()}\")\n",
    "print(interactions_test.head(3))"
   ]
  },
  {
   "cell_type": "code",
   "execution_count": 5,
   "metadata": {},
   "outputs": [
    {
     "name": "stdout",
     "output_type": "stream",
     "text": [
      "RAW interactions (1132367, 5) | keys : ['user_id', 'recipe_id', 'date', 'rating', 'review']\n",
      "   user_id  recipe_id        date  rating  \\\n",
      "0    38094      40893  2003-02-17       4   \n",
      "1  1293707      40893  2011-12-21       5   \n",
      "2     8937      44394  2002-12-01       4   \n",
      "\n",
      "                                              review  \n",
      "0  Great with a salad. Cooked on top of stove for...  \n",
      "1  So simple, so delicious! Great for chilly fall...  \n",
      "2  This worked very well and is EASY.  I used not...  \n"
     ]
    }
   ],
   "source": [
    "print(f\"RAW interactions {RAW_interactions.shape} | keys : {RAW_interactions.keys().to_list()}\")\n",
    "print(RAW_interactions.head(3))"
   ]
  },
  {
   "cell_type": "code",
   "execution_count": 6,
   "metadata": {},
   "outputs": [
    {
     "name": "stdout",
     "output_type": "stream",
     "text": [
      "RAW recipes (231637, 12) | keys : ['name', 'id', 'minutes', 'contributor_id', 'submitted', 'tags', 'nutrition', 'n_steps', 'steps', 'description', 'ingredients', 'n_ingredients']\n",
      "                                         name      id  minutes  \\\n",
      "0  arriba   baked winter squash mexican style  137739       55   \n",
      "1            a bit different  breakfast pizza   31490       30   \n",
      "2                   all in the kitchen  chili  112140      130   \n",
      "\n",
      "   contributor_id   submitted  \\\n",
      "0           47892  2005-09-16   \n",
      "1           26278  2002-06-17   \n",
      "2          196586  2005-02-25   \n",
      "\n",
      "                                                tags  \\\n",
      "0  ['60-minutes-or-less', 'time-to-make', 'course...   \n",
      "1  ['30-minutes-or-less', 'time-to-make', 'course...   \n",
      "2  ['time-to-make', 'course', 'preparation', 'mai...   \n",
      "\n",
      "                                    nutrition  n_steps  \\\n",
      "0       [51.5, 0.0, 13.0, 0.0, 2.0, 0.0, 4.0]       11   \n",
      "1   [173.4, 18.0, 0.0, 17.0, 22.0, 35.0, 1.0]        9   \n",
      "2  [269.8, 22.0, 32.0, 48.0, 39.0, 27.0, 5.0]        6   \n",
      "\n",
      "                                               steps  \\\n",
      "0  ['make a choice and proceed with recipe', 'dep...   \n",
      "1  ['preheat oven to 425 degrees f', 'press dough...   \n",
      "2  ['brown ground beef in large pot', 'add choppe...   \n",
      "\n",
      "                                         description  \\\n",
      "0  autumn is my favorite time of year to cook! th...   \n",
      "1  this recipe calls for the crust to be prebaked...   \n",
      "2  this modified version of 'mom's' chili was a h...   \n",
      "\n",
      "                                         ingredients  n_ingredients  \n",
      "0  ['winter squash', 'mexican seasoning', 'mixed ...              7  \n",
      "1  ['prepared pizza crust', 'sausage patty', 'egg...              6  \n",
      "2  ['ground beef', 'yellow onions', 'diced tomato...             13  \n"
     ]
    }
   ],
   "source": [
    "print(f\"RAW recipes {RAW_recipes.shape} | keys : {RAW_recipes.keys().to_list()}\")\n",
    "print(RAW_recipes.head(3))"
   ]
  },
  {
   "attachments": {},
   "cell_type": "markdown",
   "metadata": {},
   "source": [
    "### Exploration des notes"
   ]
  },
  {
   "cell_type": "code",
   "execution_count": 7,
   "metadata": {},
   "outputs": [
    {
     "data": {
      "image/png": "[encoded data removed]",
      "text/plain": [
       "<Figure size 1080x360 with 2 Axes>"
      ]
     },
     "metadata": {
      "needs_background": "light"
     },
     "output_type": "display_data"
    }
   ],
   "source": [
    "plt.figure(figsize=(15, 5))\n",
    "plt.subplot(1,2,1)\n",
    "plt.hist(interactions_train.rating)\n",
    "plt.title(\"Train\")\n",
    "plt.subplot(1,2,2)\n",
    "plt.hist(interactions_test.rating)\n",
    "plt.title(\"Test\")\n",
    "plt.show()"
   ]
  },
  {
   "attachments": {},
   "cell_type": "markdown",
   "metadata": {},
   "source": [
    "### Isolation des notes nulles"
   ]
  },
  {
   "cell_type": "code",
   "execution_count": 8,
   "metadata": {},
   "outputs": [
    {
     "data": {
      "text/plain": [
       "6          Just an observation, so I will not rate.  I fo...\n",
       "12         Made my own buttermilk w/ vinegar and milk.  U...\n",
       "23         This is a very good recipe.  We also want to c...\n",
       "39                              i made it and it was amazing\n",
       "56         I used half cream and half 1% milk, added anot...\n",
       "                                 ...                        \n",
       "1132318    Delicious ! I tweeked the recipe a bit>>substi...\n",
       "1132323    Just added this mix to a homemade beef &amp; s...\n",
       "1132325    Would this make a good hamburger patty seasoning?\n",
       "1132361    I am not going to rate this because I did have...\n",
       "1132362    Another approach is to start making sauce with...\n",
       "Name: review, Length: 60847, dtype: object"
      ]
     },
     "execution_count": 8,
     "metadata": {},
     "output_type": "execute_result"
    }
   ],
   "source": [
    "RAW_interactions.loc[RAW_interactions.rating ==0][\"review\"]"
   ]
  },
  {
   "attachments": {},
   "cell_type": "markdown",
   "metadata": {},
   "source": [
    "Les notes nulles correspondent dans la plupart des cas à des commentaires positifs, on les supprime donc."
   ]
  },
  {
   "attachments": {},
   "cell_type": "markdown",
   "metadata": {},
   "source": [
    "### Elimination des notes nulles et création du label \"positive\""
   ]
  },
  {
   "cell_type": "code",
   "execution_count": 9,
   "metadata": {},
   "outputs": [],
   "source": [
    "RAW_interactions_clean = RAW_interactions.drop(RAW_interactions[RAW_interactions.rating == 0].index).fillna('')"
   ]
  },
  {
   "cell_type": "code",
   "execution_count": 10,
   "metadata": {},
   "outputs": [],
   "source": [
    "RAW_interactions_clean[\"positive\"] = RAW_interactions_clean.rating.apply(lambda x: x > 3)"
   ]
  },
  {
   "cell_type": "code",
   "execution_count": 11,
   "metadata": {},
   "outputs": [
    {
     "data": {
      "text/html": [
       "<div>\n",
       "<style scoped>\n",
       "    .dataframe tbody tr th:only-of-type {\n",
       "        vertical-align: middle;\n",
       "    }\n",
       "\n",
       "    .dataframe tbody tr th {\n",
       "        vertical-align: top;\n",
       "    }\n",
       "\n",
       "    .dataframe thead th {\n",
       "        text-align: right;\n",
       "    }\n",
       "</style>\n",
       "<table border=\"1\" class=\"dataframe\">\n",
       "  <thead>\n",
       "    <tr style=\"text-align: right;\">\n",
       "      <th></th>\n",
       "      <th>user_id</th>\n",
       "      <th>recipe_id</th>\n",
       "      <th>date</th>\n",
       "      <th>rating</th>\n",
       "      <th>review</th>\n",
       "      <th>positive</th>\n",
       "    </tr>\n",
       "  </thead>\n",
       "  <tbody>\n",
       "    <tr>\n",
       "      <th>0</th>\n",
       "      <td>38094</td>\n",
       "      <td>40893</td>\n",
       "      <td>2003-02-17</td>\n",
       "      <td>4</td>\n",
       "      <td>Great with a salad. Cooked on top of stove for...</td>\n",
       "      <td>True</td>\n",
       "    </tr>\n",
       "    <tr>\n",
       "      <th>1</th>\n",
       "      <td>1293707</td>\n",
       "      <td>40893</td>\n",
       "      <td>2011-12-21</td>\n",
       "      <td>5</td>\n",
       "      <td>So simple, so delicious! Great for chilly fall...</td>\n",
       "      <td>True</td>\n",
       "    </tr>\n",
       "    <tr>\n",
       "      <th>2</th>\n",
       "      <td>8937</td>\n",
       "      <td>44394</td>\n",
       "      <td>2002-12-01</td>\n",
       "      <td>4</td>\n",
       "      <td>This worked very well and is EASY.  I used not...</td>\n",
       "      <td>True</td>\n",
       "    </tr>\n",
       "    <tr>\n",
       "      <th>3</th>\n",
       "      <td>126440</td>\n",
       "      <td>85009</td>\n",
       "      <td>2010-02-27</td>\n",
       "      <td>5</td>\n",
       "      <td>I made the Mexican topping and took it to bunk...</td>\n",
       "      <td>True</td>\n",
       "    </tr>\n",
       "    <tr>\n",
       "      <th>4</th>\n",
       "      <td>57222</td>\n",
       "      <td>85009</td>\n",
       "      <td>2011-10-01</td>\n",
       "      <td>5</td>\n",
       "      <td>Made the cheddar bacon topping, adding a sprin...</td>\n",
       "      <td>True</td>\n",
       "    </tr>\n",
       "  </tbody>\n",
       "</table>\n",
       "</div>"
      ],
      "text/plain": [
       "   user_id  recipe_id        date  rating  \\\n",
       "0    38094      40893  2003-02-17       4   \n",
       "1  1293707      40893  2011-12-21       5   \n",
       "2     8937      44394  2002-12-01       4   \n",
       "3   126440      85009  2010-02-27       5   \n",
       "4    57222      85009  2011-10-01       5   \n",
       "\n",
       "                                              review  positive  \n",
       "0  Great with a salad. Cooked on top of stove for...      True  \n",
       "1  So simple, so delicious! Great for chilly fall...      True  \n",
       "2  This worked very well and is EASY.  I used not...      True  \n",
       "3  I made the Mexican topping and took it to bunk...      True  \n",
       "4  Made the cheddar bacon topping, adding a sprin...      True  "
      ]
     },
     "execution_count": 11,
     "metadata": {},
     "output_type": "execute_result"
    }
   ],
   "source": [
    "RAW_interactions_clean.head(5)"
   ]
  },
  {
   "attachments": {},
   "cell_type": "markdown",
   "metadata": {},
   "source": [
    "### Train test split"
   ]
  },
  {
   "cell_type": "code",
   "execution_count": 12,
   "metadata": {},
   "outputs": [],
   "source": [
    "from sklearn.model_selection import train_test_split\n",
    "\n",
    "max_elements = 10000\n",
    "test_size = 0.2\n",
    "\n",
    "train_clean, test_clean = train_test_split(RAW_interactions_clean.iloc[:max_elements], test_size=test_size, random_state=0, shuffle=False)\n",
    "data_clean = RAW_interactions_clean.iloc[:max_elements]"
   ]
  },
  {
   "attachments": {},
   "cell_type": "markdown",
   "metadata": {},
   "source": [
    "# TFIDF basique"
   ]
  },
  {
   "attachments": {},
   "cell_type": "markdown",
   "metadata": {},
   "source": [
    "### Calcul de la matrice TFIDF et de la distance entre les avis"
   ]
  },
  {
   "cell_type": "code",
   "execution_count": 13,
   "metadata": {},
   "outputs": [],
   "source": [
    "from sklearn.feature_extraction.text import TfidfVectorizer\n",
    "from sklearn.metrics.pairwise import cosine_distances"
   ]
  },
  {
   "cell_type": "code",
   "execution_count": 14,
   "metadata": {},
   "outputs": [],
   "source": [
    "tfidf = TfidfVectorizer(stop_words='english', max_features = 100)\n",
    "tfidf_matrix = tfidf.fit_transform(train_clean['review'])"
   ]
  },
  {
   "cell_type": "code",
   "execution_count": 15,
   "metadata": {},
   "outputs": [],
   "source": [
    "cosine_sim = cosine_distances(tfidf_matrix, tfidf_matrix)"
   ]
  },
  {
   "attachments": {},
   "cell_type": "markdown",
   "metadata": {},
   "source": [
    "### Calcul des avis proches et affichage de leur note"
   ]
  },
  {
   "cell_type": "code",
   "execution_count": 16,
   "metadata": {},
   "outputs": [],
   "source": [
    "def get_closest(idx, sim_matrix, num_neighbors=5):\n",
    "  print(f'original: ({train_clean.iloc[idx][\"rating\"]}/5) {train_clean.iloc[idx][\"review\"]}\\n')\n",
    "  closest = sim_matrix[idx].argsort()[1:num_neighbors+1]\n",
    "  for i in range(0,num_neighbors):\n",
    "    print(f'{i+1}/ ({train_clean.iloc[closest[i]][\"rating\"]}/5) {train_clean.iloc[closest[i]][\"review\"]}\\n')"
   ]
  },
  {
   "cell_type": "code",
   "execution_count": 17,
   "metadata": {},
   "outputs": [
    {
     "name": "stdout",
     "output_type": "stream",
     "text": [
      "original: (5/5) So simple, so delicious! Great for chilly fall evening. Should have doubled it ;)<br/><br/>Second time around, forgot the remaining cumin. We usually love cumin, but didn't notice the missing 1/2 teaspoon!\n",
      "\n",
      "1/ (5/5) This was a great tasting and delicious healthy lunch! Love that it's so simple, yet tastes so good. Love the dressing too; just the right amount of freshness and tartness from the limes!\n",
      "\n",
      "2/ (5/5) I kind of surprised myself with this one, I had to pick up a few of the items at the store, but so what! It was worth it! This is my second time back to get the recipe, which is why Im rating it a 5. Little experience needed - Overall fairly simple! Love It! Love It!\n",
      "\n",
      "3/ (5/5) Delicious! Great flavors! Love capers! Made as directed. Thanks, IngridH! I will make this again and again. Made the first time for PRMR tag game.\n",
      "\n"
     ]
    }
   ],
   "source": [
    "get_closest(1, cosine_sim, num_neighbors=3)"
   ]
  },
  {
   "attachments": {},
   "cell_type": "markdown",
   "metadata": {},
   "source": [
    "# TFIDF avec Stemming"
   ]
  },
  {
   "attachments": {},
   "cell_type": "markdown",
   "metadata": {},
   "source": [
    "### Calcul de la matrice TFIDF"
   ]
  },
  {
   "cell_type": "code",
   "execution_count": 18,
   "metadata": {},
   "outputs": [
    {
     "name": "stderr",
     "output_type": "stream",
     "text": [
      "[nltk_data] Downloading package punkt to\n",
      "[nltk_data]     /home/vuong.nguyen/nltk_data...\n",
      "[nltk_data]   Package punkt is already up-to-date!\n",
      "[nltk_data] Downloading package stopwords to\n",
      "[nltk_data]     /home/vuong.nguyen/nltk_data...\n",
      "[nltk_data]   Package stopwords is already up-to-date!\n"
     ]
    }
   ],
   "source": [
    "from nltk import word_tokenize          \n",
    "from nltk.stem import SnowballStemmer\n",
    "import nltk\n",
    "from nltk.corpus import stopwords\n",
    "\n",
    "nltk.download('punkt')\n",
    "nltk.download('stopwords')\n",
    "# Download stopwords list\n",
    "\n",
    "stop_words = set(stopwords.words('english')) \n",
    "\n",
    "# Interface lemma tokenizer from nltk with sklearn\n",
    "class StemTokenizer:\n",
    "    ignore_tokens = [',', '.', ';', ':', '\"', '``', \"''\", '`','!', '#', '$', '%', '&', \"'\", \"'m\", '(', ')', '*', '-', '--', '..',\n",
    "       '...', '....', '.....', '......', '...........', '.i', '.it',\n",
    "       '.zaar', '/', '039', '08', '1', '1-2', '1.5', '1/2', '1/2tsp',\n",
    "       '1/3', '1/4', '1/8/09', '10', '10.', '10/18/10', '103024', '10oz',\n",
    "       '1108690', '114718', '12', '12/22/08', '13', '14', '146530', '15']\n",
    "    def __init__(self):\n",
    "        self.stemmer = SnowballStemmer('english')\n",
    "    def __call__(self, doc):\n",
    "        return [self.stemmer.stem(t) for t in word_tokenize(doc) if t not in self.ignore_tokens]\n",
    "\n",
    "tokenizer = StemTokenizer()\n",
    "token_stop = tokenizer(' '.join(stop_words))"
   ]
  },
  {
   "cell_type": "code",
   "execution_count": 19,
   "metadata": {},
   "outputs": [],
   "source": [
    "import random\n",
    "index_to_drop = random.sample(train_clean.index[train_clean.positive == True].to_list(), 5000)\n",
    "train_clean = train_clean.drop(index_to_drop)\n",
    "data_clean = data_clean.drop(index_to_drop)"
   ]
  },
  {
   "cell_type": "code",
   "execution_count": 20,
   "metadata": {},
   "outputs": [],
   "source": [
    "from sklearn.feature_extraction.text import TfidfVectorizer\n",
    "\n",
    "# Create TF-idf model\n",
    "tfidf = TfidfVectorizer(stop_words=token_stop, tokenizer=tokenizer, ngram_range=(1,1))\n",
    "\n",
    "#Construct the required TF-IDF matrix by fitting and transforming the data\n",
    "tfidf_matrix = tfidf.fit_transform(data_clean['review'])"
   ]
  },
  {
   "cell_type": "code",
   "execution_count": 21,
   "metadata": {},
   "outputs": [],
   "source": [
    "import pickle\n",
    "\n",
    "with open('tfidf.pkl', 'wb') as file:\n",
    "    pickle.dump(tfidf, file)"
   ]
  },
  {
   "attachments": {},
   "cell_type": "markdown",
   "metadata": {},
   "source": [
    "# Prédiction de la note"
   ]
  },
  {
   "cell_type": "code",
   "execution_count": 22,
   "metadata": {},
   "outputs": [
    {
     "name": "stderr",
     "output_type": "stream",
     "text": [
      "2023-06-16 11:19:46.542667: I tensorflow/core/platform/cpu_feature_guard.cc:193] This TensorFlow binary is optimized with oneAPI Deep Neural Network Library (oneDNN) to use the following CPU instructions in performance-critical operations:  AVX2 FMA\n",
      "To enable them in other operations, rebuild TensorFlow with the appropriate compiler flags.\n",
      "2023-06-16 11:19:46.635357: E tensorflow/stream_executor/cuda/cuda_blas.cc:2981] Unable to register cuBLAS factory: Attempting to register factory for plugin cuBLAS when one has already been registered\n",
      "2023-06-16 11:19:47.335006: W tensorflow/stream_executor/platform/default/dso_loader.cc:64] Could not load dynamic library 'libnvinfer.so.7'; dlerror: libnvinfer.so.7: cannot open shared object file: No such file or directory; LD_LIBRARY_PATH: /usr/local/cudnn/11.2-v8.1.0/cuda/lib64:/usr/local/cuda-11.2/lib64:/usr/local/TensorRT/TensorRT-8.5.1.7/lib\n",
      "2023-06-16 11:19:47.335062: W tensorflow/stream_executor/platform/default/dso_loader.cc:64] Could not load dynamic library 'libnvinfer_plugin.so.7'; dlerror: libnvinfer_plugin.so.7: cannot open shared object file: No such file or directory; LD_LIBRARY_PATH: /usr/local/cudnn/11.2-v8.1.0/cuda/lib64:/usr/local/cuda-11.2/lib64:/usr/local/TensorRT/TensorRT-8.5.1.7/lib\n",
      "2023-06-16 11:19:47.335068: W tensorflow/compiler/tf2tensorrt/utils/py_utils.cc:38] TF-TRT Warning: Cannot dlopen some TensorRT libraries. If you would like to use Nvidia GPU with TensorRT, please make sure the missing libraries mentioned above are installed properly.\n"
     ]
    }
   ],
   "source": [
    "from tensorflow.keras.models import Sequential\n",
    "from tensorflow.keras.layers import Dense, Activation, Dropout\n",
    "from tensorflow.keras.utils import to_categorical\n",
    "from tensorflow.keras.optimizers import Adam"
   ]
  },
  {
   "cell_type": "code",
   "execution_count": 23,
   "metadata": {},
   "outputs": [],
   "source": [
    "X_train = tfidf_matrix.toarray()[:3000,:]\n",
    "y_train = to_categorical(train_clean[\"positive\"].values.astype(int), 2)\n",
    "review_train = train_clean[\"review\"].values\n",
    "X_test = tfidf_matrix.toarray()[3000:,:]\n",
    "y_test = to_categorical(test_clean[\"positive\"].values.astype(int), 2)\n",
    "review_test = test_clean[\"review\"].values"
   ]
  },
  {
   "attachments": {},
   "cell_type": "markdown",
   "metadata": {},
   "source": [
    "### Définition et entraînement du modèle"
   ]
  },
  {
   "cell_type": "code",
   "execution_count": 24,
   "metadata": {},
   "outputs": [
    {
     "name": "stderr",
     "output_type": "stream",
     "text": [
      "2023-06-16 11:19:48.555458: I tensorflow/stream_executor/cuda/cuda_gpu_executor.cc:980] successful NUMA node read from SysFS had negative value (-1), but there must be at least one NUMA node, so returning NUMA node zero\n",
      "2023-06-16 11:19:48.558569: I tensorflow/stream_executor/cuda/cuda_gpu_executor.cc:980] successful NUMA node read from SysFS had negative value (-1), but there must be at least one NUMA node, so returning NUMA node zero\n",
      "2023-06-16 11:19:48.558662: I tensorflow/stream_executor/cuda/cuda_gpu_executor.cc:980] successful NUMA node read from SysFS had negative value (-1), but there must be at least one NUMA node, so returning NUMA node zero\n",
      "2023-06-16 11:19:48.559048: I tensorflow/core/platform/cpu_feature_guard.cc:193] This TensorFlow binary is optimized with oneAPI Deep Neural Network Library (oneDNN) to use the following CPU instructions in performance-critical operations:  AVX2 FMA\n",
      "To enable them in other operations, rebuild TensorFlow with the appropriate compiler flags.\n",
      "2023-06-16 11:19:48.559503: I tensorflow/stream_executor/cuda/cuda_gpu_executor.cc:980] successful NUMA node read from SysFS had negative value (-1), but there must be at least one NUMA node, so returning NUMA node zero\n",
      "2023-06-16 11:19:48.559609: I tensorflow/stream_executor/cuda/cuda_gpu_executor.cc:980] successful NUMA node read from SysFS had negative value (-1), but there must be at least one NUMA node, so returning NUMA node zero\n",
      "2023-06-16 11:19:48.559689: I tensorflow/stream_executor/cuda/cuda_gpu_executor.cc:980] successful NUMA node read from SysFS had negative value (-1), but there must be at least one NUMA node, so returning NUMA node zero\n",
      "2023-06-16 11:19:48.880712: I tensorflow/stream_executor/cuda/cuda_gpu_executor.cc:980] successful NUMA node read from SysFS had negative value (-1), but there must be at least one NUMA node, so returning NUMA node zero\n",
      "2023-06-16 11:19:48.880855: I tensorflow/stream_executor/cuda/cuda_gpu_executor.cc:980] successful NUMA node read from SysFS had negative value (-1), but there must be at least one NUMA node, so returning NUMA node zero\n",
      "2023-06-16 11:19:48.880944: I tensorflow/stream_executor/cuda/cuda_gpu_executor.cc:980] successful NUMA node read from SysFS had negative value (-1), but there must be at least one NUMA node, so returning NUMA node zero\n",
      "2023-06-16 11:19:48.881013: I tensorflow/core/common_runtime/gpu/gpu_device.cc:1616] Created device /job:localhost/replica:0/task:0/device:GPU:0 with 8032 MB memory:  -> device: 0, name: NVIDIA GeForce RTX 3080, pci bus id: 0000:01:00.0, compute capability: 8.6\n"
     ]
    }
   ],
   "source": [
    "model = Sequential()\n",
    "model.add(Dense(300, input_shape=(tfidf_matrix.shape[1],), activation='relu'))\n",
    "model.add(Dropout(0.5))\n",
    "model.add(Dense(1000, activation='relu'))\n",
    "model.add(Dropout(0.5))\n",
    "model.add(Dense(500, activation='relu'))\n",
    "model.add(Dropout(0.5))\n",
    "model.add(Dense(2, activation='softmax'))"
   ]
  },
  {
   "cell_type": "code",
   "execution_count": 25,
   "metadata": {},
   "outputs": [
    {
     "name": "stderr",
     "output_type": "stream",
     "text": [
      "/home/vuong.nguyen/.conda/envs/tf/lib/python3.9/site-packages/keras/optimizers/optimizer_v2/adam.py:114: UserWarning: The `lr` argument is deprecated, use `learning_rate` instead.\n",
      "  super().__init__(name, **kwargs)\n"
     ]
    }
   ],
   "source": [
    "model.compile(loss='binary_crossentropy', optimizer=Adam(lr=0.0001), metrics=['accuracy'])"
   ]
  },
  {
   "cell_type": "code",
   "execution_count": 26,
   "metadata": {},
   "outputs": [
    {
     "name": "stdout",
     "output_type": "stream",
     "text": [
      "Epoch 1/15\n"
     ]
    },
    {
     "name": "stdout",
     "output_type": "stream",
     "text": [
      "30/30 [==============================] - 1s 2ms/step - loss: 0.6541 - accuracy: 0.8207\n",
      "Epoch 2/15\n",
      "30/30 [==============================] - 0s 2ms/step - loss: 0.5109 - accuracy: 0.8287\n",
      "Epoch 3/15\n",
      "30/30 [==============================] - 0s 2ms/step - loss: 0.4268 - accuracy: 0.8287\n",
      "Epoch 4/15\n",
      " 1/30 [>.............................] - ETA: 0s - loss: 0.4289 - accuracy: 0.8100"
     ]
    },
    {
     "name": "stderr",
     "output_type": "stream",
     "text": [
      "2023-06-16 11:19:49.852008: I tensorflow/stream_executor/cuda/cuda_blas.cc:1614] TensorFloat-32 will be used for the matrix multiplication. This will only be logged once.\n"
     ]
    },
    {
     "name": "stdout",
     "output_type": "stream",
     "text": [
      "30/30 [==============================] - 0s 2ms/step - loss: 0.3987 - accuracy: 0.8287\n",
      "Epoch 5/15\n",
      "30/30 [==============================] - 0s 2ms/step - loss: 0.3712 - accuracy: 0.8287\n",
      "Epoch 6/15\n",
      "30/30 [==============================] - 0s 2ms/step - loss: 0.3422 - accuracy: 0.8287\n",
      "Epoch 7/15\n",
      "30/30 [==============================] - 0s 2ms/step - loss: 0.3079 - accuracy: 0.8287\n",
      "Epoch 8/15\n",
      "30/30 [==============================] - 0s 2ms/step - loss: 0.2726 - accuracy: 0.8287\n",
      "Epoch 9/15\n",
      "30/30 [==============================] - 0s 2ms/step - loss: 0.2360 - accuracy: 0.8290\n",
      "Epoch 10/15\n",
      "30/30 [==============================] - 0s 2ms/step - loss: 0.2062 - accuracy: 0.8380\n",
      "Epoch 11/15\n",
      "30/30 [==============================] - 0s 2ms/step - loss: 0.1845 - accuracy: 0.8963\n",
      "Epoch 12/15\n",
      "30/30 [==============================] - 0s 2ms/step - loss: 0.1608 - accuracy: 0.9420\n",
      "Epoch 13/15\n",
      "30/30 [==============================] - 0s 2ms/step - loss: 0.1359 - accuracy: 0.9683\n",
      "Epoch 14/15\n",
      "30/30 [==============================] - 0s 2ms/step - loss: 0.1106 - accuracy: 0.9850\n",
      "Epoch 15/15\n",
      "30/30 [==============================] - 0s 2ms/step - loss: 0.0824 - accuracy: 0.9880\n"
     ]
    },
    {
     "data": {
      "text/plain": [
       "<keras.callbacks.History at 0x7ff690b0fc10>"
      ]
     },
     "execution_count": 26,
     "metadata": {},
     "output_type": "execute_result"
    }
   ],
   "source": [
    "model.fit(X_train, y_train, epochs=15, batch_size=100, verbose=1)"
   ]
  },
  {
   "cell_type": "code",
   "execution_count": 27,
   "metadata": {},
   "outputs": [
    {
     "name": "stdout",
     "output_type": "stream",
     "text": [
      "Proportion d'avis positifs dans le dataset :  0.8286666666666667\n",
      " 1/63 [..............................] - ETA: 5s - loss: 0.1196 - accuracy: 0.9688"
     ]
    },
    {
     "name": "stdout",
     "output_type": "stream",
     "text": [
      "63/63 [==============================] - 0s 1ms/step - loss: 0.1688 - accuracy: 0.9330\n",
      "Accuracy: 93.30\n"
     ]
    }
   ],
   "source": [
    "print(\"Proportion d'avis positifs dans le dataset : \", sum(y_train[:,0] == 0)/len(y_train[:,0]))\n",
    "_, accuracy = model.evaluate(X_test, y_test)\n",
    "print('Accuracy: %.2f' % (accuracy*100))"
   ]
  },
  {
   "cell_type": "code",
   "execution_count": 28,
   "metadata": {},
   "outputs": [
    {
     "name": "stdout",
     "output_type": "stream",
     "text": [
      "INFO:tensorflow:Assets written to: ram://cc1d0d70-eb02-4c6d-818e-28645b377349/assets\n"
     ]
    }
   ],
   "source": [
    "pickle.dump(model, open('model.pkl', 'wb'))"
   ]
  },
  {
   "cell_type": "code",
   "execution_count": null,
   "metadata": {},
   "outputs": [],
   "source": []
  },
  {
   "cell_type": "code",
   "execution_count": null,
   "metadata": {},
   "outputs": [],
   "source": []
  }
 ],
 "metadata": {
  "kernelspec": {
   "display_name": "Python 3.8.8 ('Atelier_IA')",
   "language": "python",
   "name": "python3"
  },
  "language_info": {
   "codemirror_mode": {
    "name": "ipython",
    "version": 3
   },
   "file_extension": ".py",
   "mimetype": "text/x-python",
   "name": "python",
   "nbconvert_exporter": "python",
   "pygments_lexer": "ipython3",
   "version": "3.9.16"
  },
  "orig_nbformat": 4,
  "vscode": {
   "interpreter": {
    "hash": "bbadc73b4d23e01a8a592099c6810ae1af68fbc4b80a380650a232d779dc0c87"
   }
  }
 },
 "nbformat": 4,
 "nbformat_minor": 2
}
