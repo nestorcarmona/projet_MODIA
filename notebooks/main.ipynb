{
 "cells": [
  {
   "attachments": {},
   "cell_type": "markdown",
   "metadata": {},
   "source": [
    "# Projet ModIA: IA Frameworks"
   ]
  },
  {
   "attachments": {},
   "cell_type": "markdown",
   "metadata": {},
   "source": [
    "## Partie 0: Librairies, Données et Exploration"
   ]
  },
  {
   "attachments": {},
   "cell_type": "markdown",
   "metadata": {},
   "source": [
    "### 0.0 Librairies et Données"
   ]
  },
  {
   "attachments": {},
   "cell_type": "markdown",
   "metadata": {},
   "source": [
    "Librairies utilisées :"
   ]
  },
  {
   "cell_type": "code",
   "execution_count": 1,
   "metadata": {},
   "outputs": [],
   "source": [
    "# data\n",
    "import pandas as pd\n",
    "import numpy as np\n",
    "\n",
    "# plot\n",
    "import matplotlib.pyplot as plt\n",
    "import matplotlib as mpl\n",
    "import seaborn as sns\n",
    "\n",
    "# machine learning\n",
    "import sklearn\n",
    "\n",
    "# display\n",
    "from IPython.display import display, HTML"
   ]
  },
  {
   "attachments": {},
   "cell_type": "markdown",
   "metadata": {},
   "source": [
    "Ouverture des données :"
   ]
  },
  {
   "cell_type": "code",
   "execution_count": 7,
   "metadata": {},
   "outputs": [
    {
     "name": "stdout",
     "output_type": "stream",
     "text": [
      "There is a total of 698901 interactions and 231637 recipes\n"
     ]
    }
   ],
   "source": [
    "interactions_train = pd.read_csv('../data/interactions_train.csv') # user to train recommender \n",
    "interactions_test = pd.read_csv('../data/interactions_test.csv') # used to predict the ratings\n",
    "\n",
    "raw_interactions = pd.read_csv('../data/RAW_interactions.csv') # sentiment analysis\n",
    "raw_recipes = pd.read_csv('../data/RAW_recipes.csv') # used for recommender\n",
    "\n",
    "test_script = pd.read_csv('../data/test_script.csv') \n",
    "\n",
    "print(f\"There is a total of {interactions_train.shape[0]} interactions and {raw_recipes.shape[0]} recipes\")"
   ]
  },
  {
   "attachments": {},
   "cell_type": "markdown",
   "metadata": {},
   "source": [
    "### 0.1 Exploration"
   ]
  },
  {
   "attachments": {},
   "cell_type": "markdown",
   "metadata": {},
   "source": [
    "#### a. Quelques statistiques descriptives"
   ]
  },
  {
   "cell_type": "code",
   "execution_count": 8,
   "metadata": {},
   "outputs": [
    {
     "name": "stdout",
     "output_type": "stream",
     "text": [
      "Number of unique users: 25076\n",
      "Number of unique recipes: 172596\n"
     ]
    }
   ],
   "source": [
    "# Get all unique user ids from train and test\n",
    "train_users = interactions_train['user_id'].unique()\n",
    "test_users = interactions_test['user_id'].unique()\n",
    "\n",
    "# concatenate users and return unique values\n",
    "all_users = np.unique(np.concatenate((train_users, test_users), axis=0))\n",
    "\n",
    "# Get all unique recipe ids from train and test\n",
    "train_recipes = interactions_train['recipe_id'].unique()\n",
    "test_recipes = interactions_test['recipe_id'].unique()\n",
    "\n",
    "# concatenate recipes and return unique values\n",
    "all_recipes = np.unique(np.concatenate((train_recipes, test_recipes), axis=0))\n",
    "\n",
    "print('Number of unique users: {}'.format(len(all_users)))\n",
    "print('Number of unique recipes: {}'.format(len(all_recipes)))"
   ]
  },
  {
   "cell_type": "code",
   "execution_count": 21,
   "metadata": {},
   "outputs": [
    {
     "data": {
      "text/html": [
       "<div>\n",
       "<style scoped>\n",
       "    .dataframe tbody tr th:only-of-type {\n",
       "        vertical-align: middle;\n",
       "    }\n",
       "\n",
       "    .dataframe tbody tr th {\n",
       "        vertical-align: top;\n",
       "    }\n",
       "\n",
       "    .dataframe thead th {\n",
       "        text-align: right;\n",
       "    }\n",
       "</style>\n",
       "<table border=\"1\" class=\"dataframe\">\n",
       "  <thead>\n",
       "    <tr style=\"text-align: right;\">\n",
       "      <th></th>\n",
       "      <th>name</th>\n",
       "      <th>id</th>\n",
       "      <th>minutes</th>\n",
       "      <th>contributor_id</th>\n",
       "      <th>submitted</th>\n",
       "      <th>tags</th>\n",
       "      <th>nutrition</th>\n",
       "      <th>n_steps</th>\n",
       "      <th>steps</th>\n",
       "      <th>description</th>\n",
       "      <th>ingredients</th>\n",
       "      <th>n_ingredients</th>\n",
       "    </tr>\n",
       "  </thead>\n",
       "  <tbody>\n",
       "    <tr>\n",
       "      <th>213826</th>\n",
       "      <td>to die for crock pot roast</td>\n",
       "      <td>27208</td>\n",
       "      <td>545</td>\n",
       "      <td>28201</td>\n",
       "      <td>2002-05-03</td>\n",
       "      <td>['weeknight', 'time-to-make', 'course', 'main-...</td>\n",
       "      <td>[295.2, 14.0, 0.0, 15.0, 99.0, 19.0, 0.0]</td>\n",
       "      <td>7</td>\n",
       "      <td>['place beef roast in crock pot', 'mix the dri...</td>\n",
       "      <td>amazing flavor, and so simple! no salt needed ...</td>\n",
       "      <td>['beef roast', 'brown gravy mix', 'dried itali...</td>\n",
       "      <td>5</td>\n",
       "    </tr>\n",
       "  </tbody>\n",
       "</table>\n",
       "</div>"
      ],
      "text/plain": [
       "                              name     id  minutes  contributor_id  \\\n",
       "213826  to die for crock pot roast  27208      545           28201   \n",
       "\n",
       "         submitted                                               tags  \\\n",
       "213826  2002-05-03  ['weeknight', 'time-to-make', 'course', 'main-...   \n",
       "\n",
       "                                        nutrition  n_steps  \\\n",
       "213826  [295.2, 14.0, 0.0, 15.0, 99.0, 19.0, 0.0]        7   \n",
       "\n",
       "                                                    steps  \\\n",
       "213826  ['place beef roast in crock pot', 'mix the dri...   \n",
       "\n",
       "                                              description  \\\n",
       "213826  amazing flavor, and so simple! no salt needed ...   \n",
       "\n",
       "                                              ingredients  n_ingredients  \n",
       "213826  ['beef roast', 'brown gravy mix', 'dried itali...              5  "
      ]
     },
     "execution_count": 21,
     "metadata": {},
     "output_type": "execute_result"
    }
   ],
   "source": [
    "raw_recipes.query(f'id == @top_10_recipe_ids[{i}]')"
   ]
  },
  {
   "cell_type": "code",
   "execution_count": 22,
   "metadata": {},
   "outputs": [
    {
     "name": "stdout",
     "output_type": "stream",
     "text": [
      "Top 5 recipes:\n",
      "Recipe id: 27208\n",
      "Number of times it appears: 1091\n",
      "Average rating: 4.413382218148487\n",
      "Recipe name: to die for crock pot roast\n",
      "\n",
      "Recipe id: 89204\n",
      "Number of times it appears: 1075\n",
      "Average rating: 4.346976744186047\n",
      "Recipe name: crock pot chicken with black beans   cream cheese\n",
      "\n",
      "Recipe id: 32204\n",
      "Number of times it appears: 897\n",
      "Average rating: 4.608695652173913\n",
      "Recipe name: whatever floats your boat  brownies\n",
      "\n",
      "Recipe id: 39087\n",
      "Number of times it appears: 894\n",
      "Average rating: 4.691275167785235\n",
      "Recipe name: creamy cajun chicken pasta\n",
      "\n",
      "Recipe id: 69173\n",
      "Number of times it appears: 787\n",
      "Average rating: 4.777636594663278\n",
      "Recipe name: kittencal s italian melt in your mouth meatballs\n",
      "\n"
     ]
    }
   ],
   "source": [
    "# compute value counts of recipes\n",
    "recipe_counter = interactions_train['recipe_id'].value_counts()\n",
    "# most_common_recipe = recipe_counter.idxmax()\n",
    "# most_common_recipe_count = recipe_counter.max()\n",
    "\n",
    "# print the 5 most popular recipes and their name\n",
    "top_10_recipes = recipe_counter[:5]\n",
    "top_10_recipe_ids = top_10_recipes.index\n",
    "top_10_recipe_counts = top_10_recipes.values\n",
    "\n",
    "print('Top 5 recipes:')\n",
    "for i in range(5):\n",
    "    print('Recipe id: {}'.format(top_10_recipe_ids[i]))\n",
    "    print('Number of times it appears: {}'.format(top_10_recipe_counts[i]))\n",
    "    print('Average rating: {}'.format(\n",
    "        interactions_train.query(f'recipe_id == @top_10_recipe_ids[{i}]')[\"rating\"].mean()\n",
    "        )\n",
    "    )\n",
    "    print('Recipe name: {}'.format(\n",
    "        raw_recipes.query(f'id == @top_10_recipe_ids[{i}]')[\"name\"].values[0]\n",
    "        )\n",
    "    )\n",
    "    print()"
   ]
  },
  {
   "cell_type": "code",
   "execution_count": 23,
   "metadata": {},
   "outputs": [
    {
     "data": {
      "text/plain": [
       "Text(0, 0.5, 'Density')"
      ]
     },
     "execution_count": 23,
     "metadata": {},
     "output_type": "execute_result"
    },
    {
     "data": {
      "image/png": "[encoded data removed]",
      "text/plain": [
       "<Figure size 1000x600 with 1 Axes>"
      ]
     },
     "metadata": {},
     "output_type": "display_data"
    }
   ],
   "source": [
    "# Violin plot of ratings\n",
    "fig, ax = plt.subplots(figsize=(10, 6))\n",
    "fig.suptitle('Distribution of Ratings in Train Data', fontsize=16)\n",
    "\n",
    "sns.violinplot(\n",
    "    x='rating',\n",
    "    data=interactions_train,\n",
    "    ax=ax\n",
    ")\n",
    "ax.set_xlabel('Rating', fontsize=14)\n",
    "ax.set_ylabel('Density', fontsize=14)"
   ]
  },
  {
   "attachments": {},
   "cell_type": "markdown",
   "metadata": {},
   "source": [
    "## Partie 1 : Système de recommendation simple"
   ]
  },
  {
   "attachments": {},
   "cell_type": "markdown",
   "metadata": {},
   "source": [
    "### 1.1 Recommendation par popularité"
   ]
  },
  {
   "attachments": {},
   "cell_type": "markdown",
   "metadata": {},
   "source": [
    "> Based on average rating"
   ]
  },
  {
   "cell_type": "code",
   "execution_count": 33,
   "metadata": {},
   "outputs": [],
   "source": [
    "# Compute recipe popularity by averaging ratings\n",
    "recipe_avg = interactions_train.groupby('recipe_id')['rating'].mean()\n",
    "sorted_recipes_avg = recipe_avg.sort_values(ascending=False)"
   ]
  },
  {
   "cell_type": "code",
   "execution_count": 39,
   "metadata": {},
   "outputs": [
    {
     "name": "stdout",
     "output_type": "stream",
     "text": [
      "Recipe id: 537458\n",
      "Average rating: 5.0\n",
      "Recipe name: garlic and herb mashed potatoes\n",
      "\n",
      "Recipe id: 123184\n",
      "Average rating: 5.0\n",
      "Recipe name: morris family s cheese ball\n",
      "\n",
      "Recipe id: 123217\n",
      "Average rating: 5.0\n",
      "Recipe name: lemon linguini with chicken\n",
      "\n",
      "Recipe id: 123209\n",
      "Average rating: 5.0\n",
      "Recipe name: cinnamon biscuits\n",
      "\n",
      "Recipe id: 283775\n",
      "Average rating: 5.0\n",
      "Recipe name: almond roasted duck with chinese spices\n",
      "\n"
     ]
    }
   ],
   "source": [
    "# Example usage: Recommend the top 5 popular recipes\n",
    "recommended_recipes = sorted_recipes_avg.head(5).index.tolist()\n",
    "\n",
    "# print recipe id, name, and average rating\n",
    "for recommended_recipe in recommended_recipes:\n",
    "    print('Recipe id: {}'.format(recommended_recipe))\n",
    "    print('Average rating: {}'.format(\n",
    "        interactions_train.query(f'recipe_id == {recommended_recipe}')[\"rating\"].mean()\n",
    "        )\n",
    "    )\n",
    "    print('Recipe name: {}'.format(\n",
    "        raw_recipes.query(f'id == {recommended_recipe}')[\"name\"].values[0]\n",
    "        )\n",
    "    )\n",
    "    print()"
   ]
  },
  {
   "attachments": {},
   "cell_type": "markdown",
   "metadata": {},
   "source": [
    "> Based on number of ratings"
   ]
  },
  {
   "cell_type": "code",
   "execution_count": 40,
   "metadata": {},
   "outputs": [],
   "source": [
    "# Compute recipe popularity by number of ratings\n",
    "recipe_count = interactions_train.groupby('recipe_id')['rating'].count()\n",
    "sorted_recipes_count = recipe_count.sort_values(ascending=False)"
   ]
  },
  {
   "cell_type": "code",
   "execution_count": 41,
   "metadata": {},
   "outputs": [
    {
     "name": "stdout",
     "output_type": "stream",
     "text": [
      "Recipe id: 27208\n",
      "Average rating: 4.413382218148487\n",
      "Number of ratings: 1091\n",
      "Recipe name: to die for crock pot roast\n",
      "\n",
      "Recipe id: 89204\n",
      "Average rating: 4.346976744186047\n",
      "Number of ratings: 1075\n",
      "Recipe name: crock pot chicken with black beans   cream cheese\n",
      "\n",
      "Recipe id: 32204\n",
      "Average rating: 4.608695652173913\n",
      "Number of ratings: 897\n",
      "Recipe name: whatever floats your boat  brownies\n",
      "\n",
      "Recipe id: 39087\n",
      "Average rating: 4.691275167785235\n",
      "Number of ratings: 894\n",
      "Recipe name: creamy cajun chicken pasta\n",
      "\n",
      "Recipe id: 69173\n",
      "Average rating: 4.777636594663278\n",
      "Number of ratings: 787\n",
      "Recipe name: kittencal s italian melt in your mouth meatballs\n",
      "\n"
     ]
    }
   ],
   "source": [
    "# Example usage: Recommend the top 5 popular recipes\n",
    "recommended_recipes = sorted_recipes_count.head(5).index.tolist()\n",
    "\n",
    "# print recipe id, name, and average rating\n",
    "for recommended_recipe in recommended_recipes:\n",
    "    print('Recipe id: {}'.format(recommended_recipe))\n",
    "    print('Average rating: {}'.format(interactions_train[interactions_train['recipe_id'] == recommended_recipe]['rating'].mean()))\n",
    "    print('Number of ratings: {}'.format(interactions_train[interactions_train['recipe_id'] == recommended_recipe]['rating'].count()))\n",
    "    print('Recipe name: {}'.format(raw_recipes[raw_recipes['id'] == recommended_recipe]['name'].values[0]))\n",
    "    print()"
   ]
  },
  {
   "attachments": {},
   "cell_type": "markdown",
   "metadata": {},
   "source": [
    "> Based on weighted average rating\n",
    "\n",
    "Disadvantages of previous methods: \n",
    "- Average rating: recipes with only one five star review have an average of five. However, the review could have been made by a person who has very specific taste and loves the recipe.\n",
    "- Number of ratings: recipes might appear a lot but not for a good reason. For example, a carbonara recipe with cream might get a lot of negative reviews from Italians.\n",
    "\n",
    "Therefore, another method that combines average ratings and number of ratings should be implemented. \n",
    "\n",
    "For example, we can add the following information:\n"
   ]
  },
  {
   "cell_type": "code",
   "execution_count": 42,
   "metadata": {},
   "outputs": [
    {
     "name": "stdout",
     "output_type": "stream",
     "text": [
      "Recipe id: 39087\n",
      "Average rating: 4.691275167785235\n",
      "Number of ratings: 894\n",
      "Weighted average: 13.847814105273976\n",
      "Recipe name: creamy cajun chicken pasta\n",
      "\n",
      "Recipe id: 69173\n",
      "Average rating: 4.777636594663278\n",
      "Number of ratings: 787\n",
      "Weighted average: 13.838549654079705\n",
      "Recipe name: kittencal s italian melt in your mouth meatballs\n",
      "\n",
      "Recipe id: 32204\n",
      "Average rating: 4.608695652173913\n",
      "Number of ratings: 897\n",
      "Weighted average: 13.610751812466708\n",
      "Recipe name: whatever floats your boat  brownies\n",
      "\n",
      "Recipe id: 27208\n",
      "Average rating: 4.413382218148487\n",
      "Number of ratings: 1091\n",
      "Weighted average: 13.408837766952685\n",
      "Recipe name: to die for crock pot roast\n",
      "\n",
      "Recipe id: 28148\n",
      "Average rating: 4.714714714714715\n",
      "Number of ratings: 666\n",
      "Weighted average: 13.31494762537232\n",
      "Recipe name: oven fried chicken chimichangas\n",
      "\n"
     ]
    }
   ],
   "source": [
    "recipe_weighted_avg = recipe_avg * np.log10(recipe_count + 1)\n",
    "sorted_recipes_weighted_avg = recipe_weighted_avg.sort_values(ascending=False)\n",
    "\n",
    "def recommend_popular_recipes_weighted_avg(num_recommendations):\n",
    "    recommendations = sorted_recipes_weighted_avg.head(num_recommendations)\n",
    "    return recommendations.index.tolist()\n",
    "\n",
    "# Example usage: Recommend the top 5 popular recipes\n",
    "recommended_recipes = recommend_popular_recipes_weighted_avg(5)\n",
    "\n",
    "# print recipe id, name, and average rating\n",
    "for i in range(5):\n",
    "    print('Recipe id: {}'.format(recommended_recipes[i]))\n",
    "    print('Average rating: {}'.format(interactions_train[interactions_train['recipe_id'] == recommended_recipes[i]]['rating'].mean()))\n",
    "    print('Number of ratings: {}'.format(interactions_train[interactions_train['recipe_id'] == recommended_recipes[i]]['rating'].count()))\n",
    "    print('Weighted average: {}'.format(recipe_weighted_avg[recommended_recipes[i]]))\n",
    "    print('Recipe name: {}'.format(raw_recipes[raw_recipes['id'] == recommended_recipes[i]]['name'].values[0]))\n",
    "    print()"
   ]
  },
  {
   "attachments": {},
   "cell_type": "markdown",
   "metadata": {},
   "source": [
    "### 1.2 Recommendation par nombre d'étapes de la recette"
   ]
  },
  {
   "cell_type": "code",
   "execution_count": 43,
   "metadata": {},
   "outputs": [
    {
     "data": {
      "text/html": [
       "<div>\n",
       "<style scoped>\n",
       "    .dataframe tbody tr th:only-of-type {\n",
       "        vertical-align: middle;\n",
       "    }\n",
       "\n",
       "    .dataframe tbody tr th {\n",
       "        vertical-align: top;\n",
       "    }\n",
       "\n",
       "    .dataframe thead th {\n",
       "        text-align: right;\n",
       "    }\n",
       "</style>\n",
       "<table border=\"1\" class=\"dataframe\">\n",
       "  <thead>\n",
       "    <tr style=\"text-align: right;\">\n",
       "      <th></th>\n",
       "      <th>name</th>\n",
       "      <th>id</th>\n",
       "      <th>minutes</th>\n",
       "      <th>contributor_id</th>\n",
       "      <th>submitted</th>\n",
       "      <th>tags</th>\n",
       "      <th>nutrition</th>\n",
       "      <th>n_steps</th>\n",
       "      <th>steps</th>\n",
       "      <th>description</th>\n",
       "      <th>ingredients</th>\n",
       "      <th>n_ingredients</th>\n",
       "    </tr>\n",
       "  </thead>\n",
       "  <tbody>\n",
       "    <tr>\n",
       "      <th>0</th>\n",
       "      <td>arriba   baked winter squash mexican style</td>\n",
       "      <td>137739</td>\n",
       "      <td>55</td>\n",
       "      <td>47892</td>\n",
       "      <td>2005-09-16</td>\n",
       "      <td>['60-minutes-or-less', 'time-to-make', 'course...</td>\n",
       "      <td>[51.5, 0.0, 13.0, 0.0, 2.0, 0.0, 4.0]</td>\n",
       "      <td>11</td>\n",
       "      <td>['make a choice and proceed with recipe', 'dep...</td>\n",
       "      <td>autumn is my favorite time of year to cook! th...</td>\n",
       "      <td>['winter squash', 'mexican seasoning', 'mixed ...</td>\n",
       "      <td>7</td>\n",
       "    </tr>\n",
       "    <tr>\n",
       "      <th>1</th>\n",
       "      <td>a bit different  breakfast pizza</td>\n",
       "      <td>31490</td>\n",
       "      <td>30</td>\n",
       "      <td>26278</td>\n",
       "      <td>2002-06-17</td>\n",
       "      <td>['30-minutes-or-less', 'time-to-make', 'course...</td>\n",
       "      <td>[173.4, 18.0, 0.0, 17.0, 22.0, 35.0, 1.0]</td>\n",
       "      <td>9</td>\n",
       "      <td>['preheat oven to 425 degrees f', 'press dough...</td>\n",
       "      <td>this recipe calls for the crust to be prebaked...</td>\n",
       "      <td>['prepared pizza crust', 'sausage patty', 'egg...</td>\n",
       "      <td>6</td>\n",
       "    </tr>\n",
       "    <tr>\n",
       "      <th>2</th>\n",
       "      <td>all in the kitchen  chili</td>\n",
       "      <td>112140</td>\n",
       "      <td>130</td>\n",
       "      <td>196586</td>\n",
       "      <td>2005-02-25</td>\n",
       "      <td>['time-to-make', 'course', 'preparation', 'mai...</td>\n",
       "      <td>[269.8, 22.0, 32.0, 48.0, 39.0, 27.0, 5.0]</td>\n",
       "      <td>6</td>\n",
       "      <td>['brown ground beef in large pot', 'add choppe...</td>\n",
       "      <td>this modified version of 'mom's' chili was a h...</td>\n",
       "      <td>['ground beef', 'yellow onions', 'diced tomato...</td>\n",
       "      <td>13</td>\n",
       "    </tr>\n",
       "    <tr>\n",
       "      <th>3</th>\n",
       "      <td>alouette  potatoes</td>\n",
       "      <td>59389</td>\n",
       "      <td>45</td>\n",
       "      <td>68585</td>\n",
       "      <td>2003-04-14</td>\n",
       "      <td>['60-minutes-or-less', 'time-to-make', 'course...</td>\n",
       "      <td>[368.1, 17.0, 10.0, 2.0, 14.0, 8.0, 20.0]</td>\n",
       "      <td>11</td>\n",
       "      <td>['place potatoes in a large pot of lightly sal...</td>\n",
       "      <td>this is a super easy, great tasting, make ahea...</td>\n",
       "      <td>['spreadable cheese with garlic and herbs', 'n...</td>\n",
       "      <td>11</td>\n",
       "    </tr>\n",
       "    <tr>\n",
       "      <th>4</th>\n",
       "      <td>amish  tomato ketchup  for canning</td>\n",
       "      <td>44061</td>\n",
       "      <td>190</td>\n",
       "      <td>41706</td>\n",
       "      <td>2002-10-25</td>\n",
       "      <td>['weeknight', 'time-to-make', 'course', 'main-...</td>\n",
       "      <td>[352.9, 1.0, 337.0, 23.0, 3.0, 0.0, 28.0]</td>\n",
       "      <td>5</td>\n",
       "      <td>['mix all ingredients&amp; boil for 2 1 / 2 hours ...</td>\n",
       "      <td>my dh's amish mother raised him on this recipe...</td>\n",
       "      <td>['tomato juice', 'apple cider vinegar', 'sugar...</td>\n",
       "      <td>8</td>\n",
       "    </tr>\n",
       "    <tr>\n",
       "      <th>...</th>\n",
       "      <td>...</td>\n",
       "      <td>...</td>\n",
       "      <td>...</td>\n",
       "      <td>...</td>\n",
       "      <td>...</td>\n",
       "      <td>...</td>\n",
       "      <td>...</td>\n",
       "      <td>...</td>\n",
       "      <td>...</td>\n",
       "      <td>...</td>\n",
       "      <td>...</td>\n",
       "      <td>...</td>\n",
       "    </tr>\n",
       "    <tr>\n",
       "      <th>231632</th>\n",
       "      <td>zydeco soup</td>\n",
       "      <td>486161</td>\n",
       "      <td>60</td>\n",
       "      <td>227978</td>\n",
       "      <td>2012-08-29</td>\n",
       "      <td>['ham', '60-minutes-or-less', 'time-to-make', ...</td>\n",
       "      <td>[415.2, 26.0, 34.0, 26.0, 44.0, 21.0, 15.0]</td>\n",
       "      <td>7</td>\n",
       "      <td>['heat oil in a 4-quart dutch oven', 'add cele...</td>\n",
       "      <td>this is a delicious soup that i originally fou...</td>\n",
       "      <td>['celery', 'onion', 'green sweet pepper', 'gar...</td>\n",
       "      <td>22</td>\n",
       "    </tr>\n",
       "    <tr>\n",
       "      <th>231633</th>\n",
       "      <td>zydeco spice mix</td>\n",
       "      <td>493372</td>\n",
       "      <td>5</td>\n",
       "      <td>1500678</td>\n",
       "      <td>2013-01-09</td>\n",
       "      <td>['15-minutes-or-less', 'time-to-make', 'course...</td>\n",
       "      <td>[14.8, 0.0, 2.0, 58.0, 1.0, 0.0, 1.0]</td>\n",
       "      <td>1</td>\n",
       "      <td>['mix all ingredients together thoroughly']</td>\n",
       "      <td>this spice mix will make your taste buds dance!</td>\n",
       "      <td>['paprika', 'salt', 'garlic powder', 'onion po...</td>\n",
       "      <td>13</td>\n",
       "    </tr>\n",
       "    <tr>\n",
       "      <th>231634</th>\n",
       "      <td>zydeco ya ya deviled eggs</td>\n",
       "      <td>308080</td>\n",
       "      <td>40</td>\n",
       "      <td>37779</td>\n",
       "      <td>2008-06-07</td>\n",
       "      <td>['60-minutes-or-less', 'time-to-make', 'course...</td>\n",
       "      <td>[59.2, 6.0, 2.0, 3.0, 6.0, 5.0, 0.0]</td>\n",
       "      <td>7</td>\n",
       "      <td>['in a bowl , combine the mashed yolks and may...</td>\n",
       "      <td>deviled eggs, cajun-style</td>\n",
       "      <td>['hard-cooked eggs', 'mayonnaise', 'dijon must...</td>\n",
       "      <td>8</td>\n",
       "    </tr>\n",
       "    <tr>\n",
       "      <th>231635</th>\n",
       "      <td>cookies by design   cookies on a stick</td>\n",
       "      <td>298512</td>\n",
       "      <td>29</td>\n",
       "      <td>506822</td>\n",
       "      <td>2008-04-15</td>\n",
       "      <td>['30-minutes-or-less', 'time-to-make', 'course...</td>\n",
       "      <td>[188.0, 11.0, 57.0, 11.0, 7.0, 21.0, 9.0]</td>\n",
       "      <td>9</td>\n",
       "      <td>['place melted butter in a large mixing bowl a...</td>\n",
       "      <td>i've heard of the 'cookies by design' company,...</td>\n",
       "      <td>['butter', 'eagle brand condensed milk', 'ligh...</td>\n",
       "      <td>10</td>\n",
       "    </tr>\n",
       "    <tr>\n",
       "      <th>231636</th>\n",
       "      <td>cookies by design   sugar shortbread cookies</td>\n",
       "      <td>298509</td>\n",
       "      <td>20</td>\n",
       "      <td>506822</td>\n",
       "      <td>2008-04-15</td>\n",
       "      <td>['30-minutes-or-less', 'time-to-make', 'course...</td>\n",
       "      <td>[174.9, 14.0, 33.0, 4.0, 4.0, 11.0, 6.0]</td>\n",
       "      <td>5</td>\n",
       "      <td>['whip sugar and shortening in a large bowl , ...</td>\n",
       "      <td>i've heard of the 'cookies by design' company,...</td>\n",
       "      <td>['granulated sugar', 'shortening', 'eggs', 'fl...</td>\n",
       "      <td>7</td>\n",
       "    </tr>\n",
       "  </tbody>\n",
       "</table>\n",
       "<p>231637 rows × 12 columns</p>\n",
       "</div>"
      ],
      "text/plain": [
       "                                                name      id  minutes  \\\n",
       "0         arriba   baked winter squash mexican style  137739       55   \n",
       "1                   a bit different  breakfast pizza   31490       30   \n",
       "2                          all in the kitchen  chili  112140      130   \n",
       "3                                 alouette  potatoes   59389       45   \n",
       "4                 amish  tomato ketchup  for canning   44061      190   \n",
       "...                                              ...     ...      ...   \n",
       "231632                                   zydeco soup  486161       60   \n",
       "231633                              zydeco spice mix  493372        5   \n",
       "231634                     zydeco ya ya deviled eggs  308080       40   \n",
       "231635        cookies by design   cookies on a stick  298512       29   \n",
       "231636  cookies by design   sugar shortbread cookies  298509       20   \n",
       "\n",
       "        contributor_id   submitted  \\\n",
       "0                47892  2005-09-16   \n",
       "1                26278  2002-06-17   \n",
       "2               196586  2005-02-25   \n",
       "3                68585  2003-04-14   \n",
       "4                41706  2002-10-25   \n",
       "...                ...         ...   \n",
       "231632          227978  2012-08-29   \n",
       "231633         1500678  2013-01-09   \n",
       "231634           37779  2008-06-07   \n",
       "231635          506822  2008-04-15   \n",
       "231636          506822  2008-04-15   \n",
       "\n",
       "                                                     tags  \\\n",
       "0       ['60-minutes-or-less', 'time-to-make', 'course...   \n",
       "1       ['30-minutes-or-less', 'time-to-make', 'course...   \n",
       "2       ['time-to-make', 'course', 'preparation', 'mai...   \n",
       "3       ['60-minutes-or-less', 'time-to-make', 'course...   \n",
       "4       ['weeknight', 'time-to-make', 'course', 'main-...   \n",
       "...                                                   ...   \n",
       "231632  ['ham', '60-minutes-or-less', 'time-to-make', ...   \n",
       "231633  ['15-minutes-or-less', 'time-to-make', 'course...   \n",
       "231634  ['60-minutes-or-less', 'time-to-make', 'course...   \n",
       "231635  ['30-minutes-or-less', 'time-to-make', 'course...   \n",
       "231636  ['30-minutes-or-less', 'time-to-make', 'course...   \n",
       "\n",
       "                                          nutrition  n_steps  \\\n",
       "0             [51.5, 0.0, 13.0, 0.0, 2.0, 0.0, 4.0]       11   \n",
       "1         [173.4, 18.0, 0.0, 17.0, 22.0, 35.0, 1.0]        9   \n",
       "2        [269.8, 22.0, 32.0, 48.0, 39.0, 27.0, 5.0]        6   \n",
       "3         [368.1, 17.0, 10.0, 2.0, 14.0, 8.0, 20.0]       11   \n",
       "4         [352.9, 1.0, 337.0, 23.0, 3.0, 0.0, 28.0]        5   \n",
       "...                                             ...      ...   \n",
       "231632  [415.2, 26.0, 34.0, 26.0, 44.0, 21.0, 15.0]        7   \n",
       "231633        [14.8, 0.0, 2.0, 58.0, 1.0, 0.0, 1.0]        1   \n",
       "231634         [59.2, 6.0, 2.0, 3.0, 6.0, 5.0, 0.0]        7   \n",
       "231635    [188.0, 11.0, 57.0, 11.0, 7.0, 21.0, 9.0]        9   \n",
       "231636     [174.9, 14.0, 33.0, 4.0, 4.0, 11.0, 6.0]        5   \n",
       "\n",
       "                                                    steps  \\\n",
       "0       ['make a choice and proceed with recipe', 'dep...   \n",
       "1       ['preheat oven to 425 degrees f', 'press dough...   \n",
       "2       ['brown ground beef in large pot', 'add choppe...   \n",
       "3       ['place potatoes in a large pot of lightly sal...   \n",
       "4       ['mix all ingredients& boil for 2 1 / 2 hours ...   \n",
       "...                                                   ...   \n",
       "231632  ['heat oil in a 4-quart dutch oven', 'add cele...   \n",
       "231633        ['mix all ingredients together thoroughly']   \n",
       "231634  ['in a bowl , combine the mashed yolks and may...   \n",
       "231635  ['place melted butter in a large mixing bowl a...   \n",
       "231636  ['whip sugar and shortening in a large bowl , ...   \n",
       "\n",
       "                                              description  \\\n",
       "0       autumn is my favorite time of year to cook! th...   \n",
       "1       this recipe calls for the crust to be prebaked...   \n",
       "2       this modified version of 'mom's' chili was a h...   \n",
       "3       this is a super easy, great tasting, make ahea...   \n",
       "4       my dh's amish mother raised him on this recipe...   \n",
       "...                                                   ...   \n",
       "231632  this is a delicious soup that i originally fou...   \n",
       "231633    this spice mix will make your taste buds dance!   \n",
       "231634                          deviled eggs, cajun-style   \n",
       "231635  i've heard of the 'cookies by design' company,...   \n",
       "231636  i've heard of the 'cookies by design' company,...   \n",
       "\n",
       "                                              ingredients  n_ingredients  \n",
       "0       ['winter squash', 'mexican seasoning', 'mixed ...              7  \n",
       "1       ['prepared pizza crust', 'sausage patty', 'egg...              6  \n",
       "2       ['ground beef', 'yellow onions', 'diced tomato...             13  \n",
       "3       ['spreadable cheese with garlic and herbs', 'n...             11  \n",
       "4       ['tomato juice', 'apple cider vinegar', 'sugar...              8  \n",
       "...                                                   ...            ...  \n",
       "231632  ['celery', 'onion', 'green sweet pepper', 'gar...             22  \n",
       "231633  ['paprika', 'salt', 'garlic powder', 'onion po...             13  \n",
       "231634  ['hard-cooked eggs', 'mayonnaise', 'dijon must...              8  \n",
       "231635  ['butter', 'eagle brand condensed milk', 'ligh...             10  \n",
       "231636  ['granulated sugar', 'shortening', 'eggs', 'fl...              7  \n",
       "\n",
       "[231637 rows x 12 columns]"
      ]
     },
     "execution_count": 43,
     "metadata": {},
     "output_type": "execute_result"
    }
   ],
   "source": [
    "raw_recipes"
   ]
  },
  {
   "cell_type": "code",
   "execution_count": null,
   "metadata": {},
   "outputs": [],
   "source": []
  }
 ],
 "metadata": {
  "kernelspec": {
   "display_name": "Python 3",
   "language": "python",
   "name": "python3"
  },
  "language_info": {
   "codemirror_mode": {
    "name": "ipython",
    "version": 3
   },
   "file_extension": ".py",
   "mimetype": "text/x-python",
   "name": "python",
   "nbconvert_exporter": "python",
   "pygments_lexer": "ipython3",
   "version": "3.9.13"
  },
  "orig_nbformat": 4
 },
 "nbformat": 4,
 "nbformat_minor": 2
}
