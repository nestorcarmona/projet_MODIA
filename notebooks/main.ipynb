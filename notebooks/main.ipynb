{
 "cells": [
  {
   "attachments": {},
   "cell_type": "markdown",
   "metadata": {},
   "source": [
    "# Projet ModIA: IA Frameworks"
   ]
  },
  {
   "attachments": {},
   "cell_type": "markdown",
   "metadata": {},
   "source": [
    "Dans ce projet, vous allez travailler sur des données<sup>[1](#myfootnote1)</sup> issues du site [Food.com](https://www.food.com/), un célèbre site de recettes de cuisine.   \n",
    "\n",
    "![Image food](../img/food.png)\n",
    "\n",
    "Les données, disponibles [ici](https://drive.google.com/drive/folders/18JyoxTIrIH2s2wG6HtxGiKsdFtGSfUWm?usp=sharing), contiennent des informations sur des recettes de cuisines ainsi que des interactions de plusieurs utilisateurs avec les recettes.   \n",
    "\n",
    "## Consignes:\n",
    "Les parties 1, 2 et 3 sont à réaliser dans un même notebook.\n",
    "### Partie 1: Recommandations simples:\n",
    "Dans __un notebook__\n",
    "*   Présentez plusieurs stratégies de recommandation  de recettes:\n",
    "    *   Par popularité\n",
    "    *   Selon les étapes de la recette (colonne steps)\n",
    "    *   Selon la description de la recette \n",
    "\n",
    "    Pour chacune de ces méthodes montrez quelques exemples des recommandation  obtenues."
   ]
  },
  {
   "attachments": {},
   "cell_type": "markdown",
   "metadata": {},
   "source": [
    "## Partie 0: Librairies, Données et Exploration"
   ]
  },
  {
   "attachments": {},
   "cell_type": "markdown",
   "metadata": {},
   "source": [
    "### 0.0 Librairies et Données"
   ]
  },
  {
   "attachments": {},
   "cell_type": "markdown",
   "metadata": {},
   "source": [
    "Librairies utilisées :"
   ]
  },
  {
   "cell_type": "code",
   "execution_count": 1,
   "metadata": {},
   "outputs": [],
   "source": [
    "# data\n",
    "import pandas as pd\n",
    "import numpy as np\n",
    "\n",
    "# plot\n",
    "import matplotlib.pyplot as plt\n",
    "import matplotlib as mpl\n",
    "import seaborn as sns\n",
    "\n",
    "# machine learning\n",
    "import sklearn\n",
    "\n",
    "# display\n",
    "from IPython.display import display, HTML"
   ]
  },
  {
   "cell_type": "code",
   "execution_count": 2,
   "metadata": {},
   "outputs": [],
   "source": [
    "sns.set_style('white')\n",
    "# plt.xkcd()\n",
    "mpl.rcParams['font.family'] = ['DejaVu Sans']"
   ]
  },
  {
   "attachments": {},
   "cell_type": "markdown",
   "metadata": {},
   "source": [
    "Ouverture des données :"
   ]
  },
  {
   "cell_type": "code",
   "execution_count": 3,
   "metadata": {},
   "outputs": [
    {
     "name": "stdout",
     "output_type": "stream",
     "text": [
      "There is a total of 698901 interactions and 231637 recipes\n"
     ]
    }
   ],
   "source": [
    "interactions_train = pd.read_csv('../data/interactions_train.csv') # user to train recommender \n",
    "interactions_test = pd.read_csv('../data/interactions_test.csv') # used to predict the ratings\n",
    "\n",
    "raw_interactions = pd.read_csv('../data/RAW_interactions.csv') # sentiment analysis\n",
    "raw_recipes = pd.read_csv('../data/RAW_recipes.csv') # used for recommender\n",
    "\n",
    "test_script = pd.read_csv('../data/test_script.csv') \n",
    "\n",
    "print(f\"There is a total of {interactions_train.shape[0]} interactions and {raw_recipes.shape[0]} recipes\")"
   ]
  },
  {
   "cell_type": "code",
   "execution_count": 79,
   "metadata": {},
   "outputs": [],
   "source": [
    "name_description_ingredient = (\n",
    "    raw_recipes[\"name\"] + \" \" \\\n",
    "    + raw_recipes[\"description\"] + \" \" \\\n",
    "    + raw_recipes[\"ingredients\"]\n",
    ")"
   ]
  },
  {
   "cell_type": "code",
   "execution_count": 81,
   "metadata": {},
   "outputs": [
    {
     "data": {
      "text/plain": [
       "\"arriba   baked winter squash mexican style autumn is my favorite time of year to cook! this recipe \\r\\ncan be prepared either spicy or sweet, your choice!\\r\\ntwo of my posted mexican-inspired seasoning mix recipes are offered as suggestions. ['winter squash', 'mexican seasoning', 'mixed spice', 'honey', 'butter', 'olive oil', 'salt']\""
      ]
     },
     "execution_count": 81,
     "metadata": {},
     "output_type": "execute_result"
    }
   ],
   "source": [
    "name_description_ingredient[0]"
   ]
  },
  {
   "cell_type": "code",
   "execution_count": 80,
   "metadata": {},
   "outputs": [
    {
     "data": {
      "text/plain": [
       "0         arriba   baked winter squash mexican style aut...\n",
       "1         a bit different  breakfast pizza this recipe c...\n",
       "2         all in the kitchen  chili this modified versio...\n",
       "3         alouette  potatoes this is a super easy, great...\n",
       "4         amish  tomato ketchup  for canning my dh's ami...\n",
       "                                ...                        \n",
       "231632    zydeco soup this is a delicious soup that i or...\n",
       "231633    zydeco spice mix this spice mix will make your...\n",
       "231634    zydeco ya ya deviled eggs deviled eggs, cajun-...\n",
       "231635    cookies by design   cookies on a stick i've he...\n",
       "231636    cookies by design   sugar shortbread cookies i...\n",
       "Length: 231637, dtype: object"
      ]
     },
     "execution_count": 80,
     "metadata": {},
     "output_type": "execute_result"
    }
   ],
   "source": [
    "name_description_ingredient"
   ]
  },
  {
   "cell_type": "code",
   "execution_count": 87,
   "metadata": {},
   "outputs": [
    {
     "data": {
      "text/html": [
       "<div>\n",
       "<style scoped>\n",
       "    .dataframe tbody tr th:only-of-type {\n",
       "        vertical-align: middle;\n",
       "    }\n",
       "\n",
       "    .dataframe tbody tr th {\n",
       "        vertical-align: top;\n",
       "    }\n",
       "\n",
       "    .dataframe thead th {\n",
       "        text-align: right;\n",
       "    }\n",
       "</style>\n",
       "<table border=\"1\" class=\"dataframe\">\n",
       "  <thead>\n",
       "    <tr style=\"text-align: right;\">\n",
       "      <th></th>\n",
       "      <th>name</th>\n",
       "      <th>id</th>\n",
       "      <th>minutes</th>\n",
       "      <th>contributor_id</th>\n",
       "      <th>submitted</th>\n",
       "      <th>tags</th>\n",
       "      <th>nutrition</th>\n",
       "      <th>n_steps</th>\n",
       "      <th>steps</th>\n",
       "      <th>description</th>\n",
       "      <th>ingredients</th>\n",
       "      <th>n_ingredients</th>\n",
       "    </tr>\n",
       "  </thead>\n",
       "  <tbody>\n",
       "    <tr>\n",
       "      <th>0</th>\n",
       "      <td>arriba   baked winter squash mexican style</td>\n",
       "      <td>137739</td>\n",
       "      <td>55</td>\n",
       "      <td>47892</td>\n",
       "      <td>2005-09-16</td>\n",
       "      <td>['60-minutes-or-less', 'time-to-make', 'course...</td>\n",
       "      <td>[51.5, 0.0, 13.0, 0.0, 2.0, 0.0, 4.0]</td>\n",
       "      <td>11</td>\n",
       "      <td>['make a choice and proceed with recipe', 'dep...</td>\n",
       "      <td>autumn is my favorite time of year to cook! th...</td>\n",
       "      <td>['winter squash', 'mexican seasoning', 'mixed ...</td>\n",
       "      <td>7</td>\n",
       "    </tr>\n",
       "    <tr>\n",
       "      <th>1</th>\n",
       "      <td>a bit different  breakfast pizza</td>\n",
       "      <td>31490</td>\n",
       "      <td>30</td>\n",
       "      <td>26278</td>\n",
       "      <td>2002-06-17</td>\n",
       "      <td>['30-minutes-or-less', 'time-to-make', 'course...</td>\n",
       "      <td>[173.4, 18.0, 0.0, 17.0, 22.0, 35.0, 1.0]</td>\n",
       "      <td>9</td>\n",
       "      <td>['preheat oven to 425 degrees f', 'press dough...</td>\n",
       "      <td>this recipe calls for the crust to be prebaked...</td>\n",
       "      <td>['prepared pizza crust', 'sausage patty', 'egg...</td>\n",
       "      <td>6</td>\n",
       "    </tr>\n",
       "    <tr>\n",
       "      <th>2</th>\n",
       "      <td>all in the kitchen  chili</td>\n",
       "      <td>112140</td>\n",
       "      <td>130</td>\n",
       "      <td>196586</td>\n",
       "      <td>2005-02-25</td>\n",
       "      <td>['time-to-make', 'course', 'preparation', 'mai...</td>\n",
       "      <td>[269.8, 22.0, 32.0, 48.0, 39.0, 27.0, 5.0]</td>\n",
       "      <td>6</td>\n",
       "      <td>['brown ground beef in large pot', 'add choppe...</td>\n",
       "      <td>this modified version of 'mom's' chili was a h...</td>\n",
       "      <td>['ground beef', 'yellow onions', 'diced tomato...</td>\n",
       "      <td>13</td>\n",
       "    </tr>\n",
       "  </tbody>\n",
       "</table>\n",
       "</div>"
      ],
      "text/plain": [
       "                                         name      id  minutes  \\\n",
       "0  arriba   baked winter squash mexican style  137739       55   \n",
       "1            a bit different  breakfast pizza   31490       30   \n",
       "2                   all in the kitchen  chili  112140      130   \n",
       "\n",
       "   contributor_id   submitted  \\\n",
       "0           47892  2005-09-16   \n",
       "1           26278  2002-06-17   \n",
       "2          196586  2005-02-25   \n",
       "\n",
       "                                                tags  \\\n",
       "0  ['60-minutes-or-less', 'time-to-make', 'course...   \n",
       "1  ['30-minutes-or-less', 'time-to-make', 'course...   \n",
       "2  ['time-to-make', 'course', 'preparation', 'mai...   \n",
       "\n",
       "                                    nutrition  n_steps  \\\n",
       "0       [51.5, 0.0, 13.0, 0.0, 2.0, 0.0, 4.0]       11   \n",
       "1   [173.4, 18.0, 0.0, 17.0, 22.0, 35.0, 1.0]        9   \n",
       "2  [269.8, 22.0, 32.0, 48.0, 39.0, 27.0, 5.0]        6   \n",
       "\n",
       "                                               steps  \\\n",
       "0  ['make a choice and proceed with recipe', 'dep...   \n",
       "1  ['preheat oven to 425 degrees f', 'press dough...   \n",
       "2  ['brown ground beef in large pot', 'add choppe...   \n",
       "\n",
       "                                         description  \\\n",
       "0  autumn is my favorite time of year to cook! th...   \n",
       "1  this recipe calls for the crust to be prebaked...   \n",
       "2  this modified version of 'mom's' chili was a h...   \n",
       "\n",
       "                                         ingredients  n_ingredients  \n",
       "0  ['winter squash', 'mexican seasoning', 'mixed ...              7  \n",
       "1  ['prepared pizza crust', 'sausage patty', 'egg...              6  \n",
       "2  ['ground beef', 'yellow onions', 'diced tomato...             13  "
      ]
     },
     "execution_count": 87,
     "metadata": {},
     "output_type": "execute_result"
    }
   ],
   "source": [
    "raw_recipes.head(3)"
   ]
  },
  {
   "attachments": {},
   "cell_type": "markdown",
   "metadata": {},
   "source": [
    "### 0.1 Exploration"
   ]
  },
  {
   "attachments": {},
   "cell_type": "markdown",
   "metadata": {},
   "source": [
    "#### a. Quelques statistiques descriptives"
   ]
  },
  {
   "cell_type": "code",
   "execution_count": 4,
   "metadata": {},
   "outputs": [
    {
     "name": "stdout",
     "output_type": "stream",
     "text": [
      "Number of unique users: 25076\n",
      "Number of unique recipes: 172596\n"
     ]
    }
   ],
   "source": [
    "# Get all unique user ids from train and test\n",
    "train_users = interactions_train['user_id'].unique()\n",
    "test_users = interactions_test['user_id'].unique()\n",
    "\n",
    "# concatenate users and return unique values\n",
    "all_users = np.unique(np.concatenate((train_users, test_users), axis=0))\n",
    "\n",
    "# Get all unique recipe ids from train and test\n",
    "train_recipes = interactions_train['recipe_id'].unique()\n",
    "test_recipes = interactions_test['recipe_id'].unique()\n",
    "\n",
    "# concatenate recipes and return unique values\n",
    "all_recipes = np.unique(np.concatenate((train_recipes, test_recipes), axis=0))\n",
    "\n",
    "print('Number of unique users: {}'.format(len(all_users)))\n",
    "print('Number of unique recipes: {}'.format(len(all_recipes)))"
   ]
  },
  {
   "cell_type": "code",
   "execution_count": null,
   "metadata": {},
   "outputs": [
    {
     "name": "stdout",
     "output_type": "stream",
     "text": [
      "Top 5 recipes:\n",
      "Recipe id: 27208\n",
      "Number of times it appears: 1091\n",
      "Average rating: 4.413382218148487\n",
      "Recipe name: to die for crock pot roast\n",
      "\n",
      "Recipe id: 89204\n",
      "Number of times it appears: 1075\n",
      "Average rating: 4.346976744186047\n",
      "Recipe name: crock pot chicken with black beans   cream cheese\n",
      "\n",
      "Recipe id: 32204\n",
      "Number of times it appears: 897\n",
      "Average rating: 4.608695652173913\n",
      "Recipe name: whatever floats your boat  brownies\n",
      "\n",
      "Recipe id: 39087\n",
      "Number of times it appears: 894\n",
      "Average rating: 4.691275167785235\n",
      "Recipe name: creamy cajun chicken pasta\n",
      "\n",
      "Recipe id: 69173\n",
      "Number of times it appears: 787\n",
      "Average rating: 4.777636594663278\n",
      "Recipe name: kittencal s italian melt in your mouth meatballs\n",
      "\n"
     ]
    }
   ],
   "source": [
    "# compute value counts of recipes\n",
    "recipe_counter = interactions_train['recipe_id'].value_counts()\n",
    "# most_common_recipe = recipe_counter.idxmax()\n",
    "# most_common_recipe_count = recipe_counter.max()\n",
    "\n",
    "# print the 5 most popular recipes and their name\n",
    "top_10_recipes = recipe_counter[:5]\n",
    "top_10_recipe_ids = top_10_recipes.index\n",
    "top_10_recipe_counts = top_10_recipes.values\n",
    "\n",
    "print('Top 5 recipes:')\n",
    "for i in range(5):\n",
    "    print('Recipe id: {}'.format(top_10_recipe_ids[i]))\n",
    "    print('Number of times it appears: {}'.format(top_10_recipe_counts[i]))\n",
    "    print('Average rating: {}'.format(\n",
    "        interactions_train.query(f'recipe_id == @top_10_recipe_ids[{i}]')[\"rating\"].mean()\n",
    "        )\n",
    "    )\n",
    "    print('Recipe name: {}'.format(\n",
    "        raw_recipes.query(f'id == @top_10_recipe_ids[{i}]')[\"name\"].values[0]\n",
    "        )\n",
    "    )\n",
    "    print()"
   ]
  },
  {
   "cell_type": "code",
   "execution_count": null,
   "metadata": {},
   "outputs": [
    {
     "data": {
      "text/plain": [
       "Text(0, 0.5, 'Density')"
      ]
     },
     "execution_count": 23,
     "metadata": {},
     "output_type": "execute_result"
    },
    {
     "data": {
      "image/png": "[encoded data removed]",
      "text/plain": [
       "<Figure size 1000x600 with 1 Axes>"
      ]
     },
     "metadata": {},
     "output_type": "display_data"
    }
   ],
   "source": [
    "# Violin plot of ratings\n",
    "fig, ax = plt.subplots(figsize=(10, 6))\n",
    "fig.suptitle('Distribution of Ratings in Train Data', fontsize=16)\n",
    "\n",
    "sns.violinplot(\n",
    "    x='rating',\n",
    "    data=interactions_train,\n",
    "    ax=ax\n",
    ")\n",
    "ax.set_xlabel('Rating', fontsize=14)\n",
    "ax.set_ylabel('Density', fontsize=14)"
   ]
  },
  {
   "attachments": {},
   "cell_type": "markdown",
   "metadata": {},
   "source": [
    "### 0.2 Classe recommandation"
   ]
  },
  {
   "cell_type": "code",
   "execution_count": 6,
   "metadata": {},
   "outputs": [],
   "source": [
    "from abc import ABC, abstractmethod\n",
    "\n",
    "\n",
    "class RecommendationSystem(ABC):\n",
    "    @abstractmethod\n",
    "    def fit(self, interactions_train: pd.DataFrame, raw_recipes: pd.DataFrame):\n",
    "        raise NotImplementedError\n",
    "    \n",
    "    @abstractmethod\n",
    "    def predict(self, user: pd.Series, k: int) -> list[int]:\n",
    "        raise NotImplementedError"
   ]
  },
  {
   "attachments": {},
   "cell_type": "markdown",
   "metadata": {},
   "source": [
    "## Partie 1 : Système de recommendation simple"
   ]
  },
  {
   "attachments": {},
   "cell_type": "markdown",
   "metadata": {},
   "source": [
    "### 1.1 Recommendation par popularité"
   ]
  },
  {
   "cell_type": "code",
   "execution_count": 63,
   "metadata": {},
   "outputs": [],
   "source": [
    "from typing_extensions import Literal, Self\n",
    "from typing import Optional\n",
    "class RecommendationPopularity(RecommendationSystem):\n",
    "    def __init__(self, method: Literal[\"average\", \"count\", \"weighted_average\", \"imdb\"] = \"average\", m: Optional[int] = None):\n",
    "        super(RecommendationSystem, self).__init__()\n",
    "        self.method = method\n",
    "        self._sorted_recipes: list[int]\n",
    "        if method != \"imdb\" and m is not None:\n",
    "            raise ValueError(\"m can only be set for method imdb\")\n",
    "        self.m = m\n",
    "\n",
    "    def _fit_average(self, interactions_train: pd.DataFrame, raw_recipes: pd.DataFrame) -> Self:\n",
    "        recipe_avg = interactions_train.groupby('recipe_id')['rating'].mean()\n",
    "        sorted_recipes_avg_id = recipe_avg.sort_values(ascending=False).index.to_list()\n",
    "        self._sorted_recipes = sorted_recipes_avg_id\n",
    "        return self\n",
    "    \n",
    "    def _fit_count(self, interactions_train: pd.DataFrame, raw_recipes: pd.DataFrame) -> Self:\n",
    "        recipe_count = interactions_train.groupby('recipe_id')['rating'].count()\n",
    "        sorted_recipes_count = recipe_count.sort_values(ascending=False).index.to_list()\n",
    "        self._sorted_recipes = sorted_recipes_count\n",
    "        return self\n",
    "    \n",
    "    def _fit_weighted_average(self, interactions_train: pd.DataFrame, raw_recipes: pd.DataFrame) -> Self:\n",
    "        recipe_avg = interactions_train.groupby('recipe_id')['rating'].mean()\n",
    "        recipe_count = interactions_train.groupby('recipe_id')['rating'].count()\n",
    "        recipe_weighted_avg = recipe_avg * np.log10(recipe_count + 1)\n",
    "        sorted_recipes_weighted_avg = recipe_weighted_avg.sort_values(ascending=False).index.to_list()\n",
    "        self._sorted_recipes = sorted_recipes_weighted_avg\n",
    "        return self\n",
    "    \n",
    "    def _fit_imdb(self, interactions_train: pd.DataFrame, raw_recipes: pd.DataFrame) -> Self:\n",
    "        # R\n",
    "        recipe_avg = interactions_train.groupby('recipe_id')['rating'].mean()\n",
    "        # v\n",
    "        recipe_count = interactions_train.groupby('recipe_id')['rating'].count()\n",
    "        # C\n",
    "        recipe_global_mean = interactions_train['rating'].mean()\n",
    "        \n",
    "        recipe_imdb = (\n",
    "            (recipe_count / (recipe_count + self.m)) * recipe_avg \\\n",
    "                + (self.m / (recipe_count + self.m)) * recipe_global_mean\n",
    "        )\n",
    "        sorted_recipe_imdb = recipe_imdb.sort_values(ascending=False).index.to_list()\n",
    "        self._sorted_recipes = sorted_recipe_imdb\n",
    "        return self\n",
    "\n",
    "    def fit(self, interactions_train: pd.DataFrame, raw_recipes: pd.DataFrame) -> Self:\n",
    "        if self.method == \"average\":\n",
    "            return self._fit_average(interactions_train, raw_recipes)\n",
    "        elif self.method == \"count\":\n",
    "            return self._fit_count(interactions_train, raw_recipes)\n",
    "        elif self.method == \"weighted_average\":\n",
    "            return self._fit_weighted_average(interactions_train, raw_recipes)\n",
    "        elif self.method == \"imdb\":\n",
    "            return self._fit_imdb(interactions_train, raw_recipes)\n",
    "        else:\n",
    "            raise ValueError(f\"Unknown method {self.method}\")\n",
    "    \n",
    "    def predict(self, user: Optional[pd.Series], k: int) -> list[int]:\n",
    "        return self._sorted_recipes[:k]"
   ]
  },
  {
   "cell_type": "code",
   "execution_count": 128,
   "metadata": {},
   "outputs": [
    {
     "name": "stdout",
     "output_type": "stream",
     "text": [
      "Top 5 recipes by average popularity:\n",
      "-----------------------------------\n",
      "Recipe id: 537458\n",
      "Average rating: 5.0000\n",
      "Recipe name: garlic and herb mashed potatoes\n",
      "\n",
      "Recipe id: 123184\n",
      "Average rating: 5.0000\n",
      "Recipe name: morris family s cheese ball\n",
      "\n",
      "Recipe id: 123217\n",
      "Average rating: 5.0000\n",
      "Recipe name: lemon linguini with chicken\n",
      "\n",
      "Recipe id: 123209\n",
      "Average rating: 5.0000\n",
      "Recipe name: cinnamon biscuits\n",
      "\n",
      "Recipe id: 283775\n",
      "Average rating: 5.0000\n",
      "Recipe name: almond roasted duck with chinese spices\n",
      "\n"
     ]
    }
   ],
   "source": [
    "recommandation_popularity = RecommendationPopularity(method=\"average\")\n",
    "recommandation_popularity.fit(interactions_train, raw_recipes)\n",
    "recommanded_ids = recommandation_popularity.predict(None, 5)\n",
    "\n",
    "print('Top 5 recipes by average popularity:')\n",
    "print('-----------------------------------')\n",
    "for recommanded_id in recommanded_ids:\n",
    "    interaction = interactions_train.query(\"recipe_id == @recommanded_id\")\n",
    "    raw = raw_recipes.query(\"id == @recommanded_id\")\n",
    "    print(f'Recipe id: {recommanded_id}')\n",
    "    print(f'Average rating: {interaction[\"rating\"].mean():0.4f}')\n",
    "    print(f'Recipe name: {raw[\"name\"].values[0]}')\n",
    "    print()"
   ]
  },
  {
   "cell_type": "code",
   "execution_count": 129,
   "metadata": {},
   "outputs": [
    {
     "name": "stdout",
     "output_type": "stream",
     "text": [
      "Top 5 recipes by number of rating popularity:\n",
      "-----------------------------------\n",
      "Recipe id: 27208\n",
      "Average rating: 4.4134\n",
      "Recipe name: to die for crock pot roast\n",
      "\n",
      "Recipe id: 89204\n",
      "Average rating: 4.3470\n",
      "Recipe name: crock pot chicken with black beans   cream cheese\n",
      "\n",
      "Recipe id: 32204\n",
      "Average rating: 4.6087\n",
      "Recipe name: whatever floats your boat  brownies\n",
      "\n",
      "Recipe id: 39087\n",
      "Average rating: 4.6913\n",
      "Recipe name: creamy cajun chicken pasta\n",
      "\n",
      "Recipe id: 69173\n",
      "Average rating: 4.7776\n",
      "Recipe name: kittencal s italian melt in your mouth meatballs\n",
      "\n"
     ]
    }
   ],
   "source": [
    "recommandation_popularity = RecommendationPopularity(method=\"count\")\n",
    "recommandation_popularity.fit(interactions_train, raw_recipes)\n",
    "recommanded_ids = recommandation_popularity.predict(None, 5)\n",
    "\n",
    "print('Top 5 recipes by number of rating popularity:')\n",
    "print('-----------------------------------')\n",
    "for recommanded_id in recommanded_ids:\n",
    "    interaction = interactions_train.query(\"recipe_id == @recommanded_id\")\n",
    "    raw = raw_recipes.query(\"id == @recommanded_id\")\n",
    "    print(f'Recipe id: {recommanded_id}')\n",
    "    print(f'Average rating: {interaction[\"rating\"].mean():0.4f}')\n",
    "    print(f'Recipe name: {raw[\"name\"].values[0]}')\n",
    "    print()"
   ]
  },
  {
   "attachments": {},
   "cell_type": "markdown",
   "metadata": {},
   "source": [
    "Disadvantages of previous methods: \n",
    "- **Average rating**: recipes with only one five star review have an average of five. However, the review could have been made by a person who has very specific taste and loves the recipe.\n",
    "- **Number of ratings**: recipes might appear a lot but not for a good reason. For example, a carbonara recipe with cream might get a lot of negative reviews from Italians.\n",
    "\n",
    "Therefore, another method that combines average ratings and number of ratings should be implemented. \n",
    "\n",
    "For example, we can add the following information:\n"
   ]
  },
  {
   "cell_type": "code",
   "execution_count": 130,
   "metadata": {},
   "outputs": [
    {
     "name": "stdout",
     "output_type": "stream",
     "text": [
      "Top 5 recipes by weighted average:\n",
      "-----------------------------------\n",
      "Recipe id: 39087\n",
      "Average rating: 4.6913\n",
      "Recipe name: creamy cajun chicken pasta\n",
      "\n",
      "Recipe id: 69173\n",
      "Average rating: 4.7776\n",
      "Recipe name: kittencal s italian melt in your mouth meatballs\n",
      "\n",
      "Recipe id: 32204\n",
      "Average rating: 4.6087\n",
      "Recipe name: whatever floats your boat  brownies\n",
      "\n",
      "Recipe id: 27208\n",
      "Average rating: 4.4134\n",
      "Recipe name: to die for crock pot roast\n",
      "\n",
      "Recipe id: 28148\n",
      "Average rating: 4.7147\n",
      "Recipe name: oven fried chicken chimichangas\n",
      "\n"
     ]
    }
   ],
   "source": [
    "recommandation_popularity = RecommendationPopularity(method=\"weighted_average\")\n",
    "recommandation_popularity.fit(interactions_train, raw_recipes)\n",
    "recommanded_ids = recommandation_popularity.predict(None, 5)\n",
    "\n",
    "print('Top 5 recipes by weighted average:')\n",
    "print('-----------------------------------')\n",
    "for recommanded_id in recommanded_ids:\n",
    "    interaction = interactions_train.query(\"recipe_id == @recommanded_id\")\n",
    "    raw = raw_recipes.query(\"id == @recommanded_id\")\n",
    "    print(f'Recipe id: {recommanded_id}')\n",
    "    print(f'Average rating: {interaction[\"rating\"].mean():0.4f}')\n",
    "    print(f'Recipe name: {raw[\"name\"].values[0]}')\n",
    "    print()"
   ]
  },
  {
   "attachments": {},
   "cell_type": "markdown",
   "metadata": {},
   "source": [
    "Pour donner des recommendations en tenant compte de la popularité de la recette nous allons utiliser la formule inspirée du modèle de classement des films imbd décrit de la façon suivante : \n",
    " [here](https://help.imdb.com/article/imdb/track-movies-tv/ratings-faq/G67Y87TFYYP6TWAV#)  \n",
    "![](https://drive.google.com/uc?export=view&id=12J_uJ86eOimr8Y0LHTGSMmUgkBnZu9cO)   "
   ]
  },
  {
   "cell_type": "code",
   "execution_count": 127,
   "metadata": {},
   "outputs": [
    {
     "name": "stdout",
     "output_type": "stream",
     "text": [
      "Top 5 recipes by imdb:\n",
      "-----------------------------------\n",
      "Recipe id: 113299\n",
      "Average rating: 4.9077\n",
      "Recipe name: peanut butter cup cookies  tarts\n",
      "\n",
      "Recipe id: 128566\n",
      "Average rating: 4.9307\n",
      "Recipe name: homemade chicken pot pie\n",
      "\n",
      "Recipe id: 111777\n",
      "Average rating: 4.8800\n",
      "Recipe name: chicken pot pie with 2 crusts\n",
      "\n",
      "Recipe id: 80413\n",
      "Average rating: 4.8698\n",
      "Recipe name: homemade hamburger buns  bread machine\n",
      "\n",
      "Recipe id: 42976\n",
      "Average rating: 4.9126\n",
      "Recipe name: brown sugar bundt cake\n",
      "\n"
     ]
    }
   ],
   "source": [
    "recommandation_popularity = RecommendationPopularity(method=\"imdb\", m = 50)\n",
    "recommandation_popularity.fit(interactions_train, raw_recipes)\n",
    "recommanded_ids = recommandation_popularity.predict(None, 5)\n",
    "\n",
    "print('Top 5 recipes by imdb:')\n",
    "print('-----------------------------------')\n",
    "for recommanded_id in recommanded_ids:\n",
    "    interaction = interactions_train.query(\"recipe_id == @recommanded_id\")\n",
    "    raw = raw_recipes.query(\"id == @recommanded_id\")\n",
    "    print(f'Recipe id: {recommanded_id}')\n",
    "    print(f'Average rating: {interaction[\"rating\"].mean():0.4f}')\n",
    "    print(f'Recipe name: {raw[\"name\"].values[0]}')\n",
    "    print()"
   ]
  },
  {
   "attachments": {},
   "cell_type": "markdown",
   "metadata": {},
   "source": [
    "### 1.2 Recommendation basée sur les étapes et descriptions de la recette"
   ]
  },
  {
   "cell_type": "code",
   "execution_count": 139,
   "metadata": {},
   "outputs": [],
   "source": [
    "TAILLE = 1_000\n",
    "\n",
    "raw_recipes_subset = raw_recipes.sample(TAILLE, random_state=42).dropna().reset_index()"
   ]
  },
  {
   "cell_type": "code",
   "execution_count": 140,
   "metadata": {},
   "outputs": [],
   "source": [
    "from nltk import word_tokenize          \n",
    "from nltk.stem import SnowballStemmer\n",
    "import nltk\n",
    "from nltk.corpus import stopwords\n"
   ]
  },
  {
   "cell_type": "code",
   "execution_count": 184,
   "metadata": {},
   "outputs": [],
   "source": [
    "from typing import Iterable\n",
    "import scipy\n",
    "from sklearn.feature_extraction.text import TfidfVectorizer\n",
    "from sklearn.metrics.pairwise import cosine_distances, euclidean_distances\n",
    "\n",
    "class StemTokenizer:\n",
    "    ignore_tokens = [',', '.', ';', ':', '\"', '``', \"''\", '`','[',']']\n",
    "    def __init__(self):\n",
    "        self.stemmer = SnowballStemmer('english')\n",
    "        \n",
    "    def __call__(self, doc):\n",
    "        return [self.stemmer.stem(t) for t in word_tokenize(doc) if t not in self.ignore_tokens]\n",
    "    \n",
    "class RecommendationContentBased(RecommendationSystem):\n",
    "    def __init__(\n",
    "            self,\n",
    "            similarity: Literal[\"cosine\", \"euclidean\"] = \"cosine\",\n",
    "            features: Literal[\"name\", \"description\", \"ingredients\"] = \"name\",\n",
    "            max_features: int = 500,\n",
    "        ) -> None:\n",
    "        super(RecommendationSystem, self).__init__()\n",
    "        self.similarity = similarity\n",
    "        self.features = features\n",
    "        self.max_features = max_features\n",
    "\n",
    "    def fit(self, interactions_train: pd.DataFrame, raw_recipes: pd.DataFrame) -> Self:\n",
    "        # Make a dictionary between recipe_id and index\n",
    "        self.indices = pd.Series(raw_recipes.index, index=raw_recipes['name'])\n",
    "        self.id = raw_recipes[\"id\"]\n",
    "        name_description_ingredient = raw_recipes[self.features].fillna(\"\")\n",
    "        name_description_ingredient.fillna(\"\", inplace=True)\n",
    "        tokenizer = StemTokenizer()\n",
    "        token_stop = tokenizer(' '.join(set(stopwords.words('english')) ))\n",
    "        tfidf = TfidfVectorizer(\n",
    "            stop_words=token_stop,\n",
    "            tokenizer=tokenizer,\n",
    "            max_features=self.max_features\n",
    "        )\n",
    "        self.tfidf_matrix = tfidf.fit_transform(name_description_ingredient)\n",
    "        if self.similarity == \"cosine\":\n",
    "            self.similarities = cosine_distances(self.tfidf_matrix, self.tfidf_matrix)\n",
    "        elif self.similarity == \"euclidean\":\n",
    "            self.similarities = euclidean_distances(self.tfidf_matrix, self.tfidf_matrix)\n",
    "        else:\n",
    "            raise ValueError(f\"Unknown similarity {self.similarity}\")\n",
    "\n",
    "    def predict(self, name: str, k: int) -> list[int]:\n",
    "        recipe_idx = self.indices[name]\n",
    "        closest = self.similarities[recipe_idx].argsort()[0:k+1]\n",
    "        return self.id[closest].tolist()"
   ]
  },
  {
   "cell_type": "code",
   "execution_count": 188,
   "metadata": {},
   "outputs": [
    {
     "name": "stdout",
     "output_type": "stream",
     "text": [
      "Recipe: pork tenderloin with hoisin\n",
      "----------------------------------\n",
      "Top 5 recipes by name similarity:\n",
      "----------------------------------\n",
      "Recipe id: 78450\n",
      "Average rating: 4.857142857142857\n",
      "Recipe name: pork tenderloin with hoisin\n",
      "\n",
      "Recipe id: 41694\n",
      "Average rating: 4.818181818181818\n",
      "Recipe name: hoisin and bourbon glazed pork tenderloin\n",
      "\n",
      "Recipe id: 55242\n",
      "Average rating: 4.153846153846154\n",
      "Recipe name: barbecued red roast pork tenderloin\n",
      "\n",
      "Recipe id: 196529\n",
      "Average rating: 5.0\n",
      "Recipe name: pork saltimbocca\n",
      "\n",
      "Recipe id: 75579\n",
      "Average rating: nan\n",
      "Recipe name: lobster stuffed beef tenderloin\n",
      "\n",
      "Recipe id: 531469\n",
      "Average rating: nan\n",
      "Recipe name: roasted pork shoulder  pernil al horno\n",
      "\n"
     ]
    },
    {
     "name": "stderr",
     "output_type": "stream",
     "text": [
      "/home/europe/Desktop/david/projet_MODIA/.venv/lib/python3.9/site-packages/sklearn/feature_extraction/text.py:528: UserWarning: The parameter 'token_pattern' will not be used since 'tokenizer' is not None'\n",
      "  warnings.warn(\n"
     ]
    }
   ],
   "source": [
    "recommandation_content = RecommendationContentBased(similarity=\"cosine\", features=\"name\")\n",
    "recommandation_content.fit(interactions_train, raw_recipes_subset)\n",
    "recipe = raw_recipes_subset.iloc[3][\"name\"]\n",
    "recommanded_ids = recommandation_content.predict(recipe, 5)\n",
    "\n",
    "print(f\"Recipe: {recipe}\")\n",
    "print('----------------------------------')\n",
    "print(f'Top 5 recipes by name similarity:')\n",
    "print('----------------------------------')\n",
    "for recommanded_id in recommanded_ids:\n",
    "    interaction = interactions_train.query(\"recipe_id == @recommanded_id\")\n",
    "    raw = raw_recipes_subset.query(\"id == @recommanded_id\")\n",
    "    print(f'Recipe id: {recommanded_id}')\n",
    "    print(f'Average rating: {interaction[\"rating\"].mean()}')\n",
    "    print(f'Recipe name: {raw[\"name\"].values[0]}')\n",
    "    print()"
   ]
  },
  {
   "cell_type": "code",
   "execution_count": 190,
   "metadata": {},
   "outputs": [
    {
     "name": "stderr",
     "output_type": "stream",
     "text": [
      "/home/europe/Desktop/david/projet_MODIA/.venv/lib/python3.9/site-packages/sklearn/feature_extraction/text.py:528: UserWarning: The parameter 'token_pattern' will not be used since 'tokenizer' is not None'\n",
      "  warnings.warn(\n"
     ]
    },
    {
     "name": "stdout",
     "output_type": "stream",
     "text": [
      "Recipe: pork tenderloin with hoisin\n",
      "-----------------------------------------\n",
      "Top 5 recipes by description similarity:\n",
      "-----------------------------------------\n",
      "Recipe id: 78450\n",
      "Average rating: 4.857142857142857\n",
      "Recipe name: pork tenderloin with hoisin\n",
      "Recipe description: another keeper from bonnie stern's heartsmart cooking series. the pork is sauteed in the marinade with no extra fat. the sauce is delicious and we have enjoyed it with chicken breast and beef as well.\n",
      "\n",
      "Recipe id: 389269\n",
      "Average rating: 5.0\n",
      "Recipe name: garlic and mustard chicken\n",
      "Recipe description: this dish is healthy and delicious and so easy to make.\n",
      "i like to eat it with recipe #313506  and a mixed salad.\n",
      "instead of creme fraiche you could use sour cream. and\n",
      "instead of 8 chicken thighs you could use 4 chicken breast halves.\n",
      "you can cook it on the grill or in the oven. i had a hard time listing cooking times, so just make sure the chicken is done and enjoy :)\n",
      "\n",
      "Recipe id: 291671\n",
      "Average rating: nan\n",
      "Recipe name: irish sticky date pudding with irish whiskey toffee sauce\n",
      "Recipe description: you won't have any trouble getting rid of the extra servings of this toothsome cake and whiskey-laced caramel sauce.\n",
      "\n",
      "Recipe id: 50770\n",
      "Average rating: 4.0\n",
      "Recipe name: mushroom cheese sauce\n",
      "Recipe description: a nice sauce to accompany beef or vegetables\n",
      "\n",
      "Recipe id: 101403\n",
      "Average rating: nan\n",
      "Recipe name: poached chicken breast\n",
      "Recipe description: good way to prepare chicken breast for salads, or casseroles.\n",
      "\n",
      "Recipe id: 258625\n",
      "Average rating: nan\n",
      "Recipe name: lemon and honey chicken\n",
      "Recipe description: this recipe is delicious and versatile - it can be cooked at a gentle simmer on the stove top, or in the oven.  i use skinless chicken thighs which have one bone still attached - i don't know the name of the cut. when measuring the amounts in this recipe i use 20ml tablespoons. the sauce is plentiful but thinnish. i like to pour it over the chicken and some rice. however, if you wish, you can remove the chicken when cooked and reduce the sauce to make it thicker. adapted from a recipe by ian parmenter.\n",
      "\n"
     ]
    }
   ],
   "source": [
    "recommandation_content = RecommendationContentBased(similarity=\"cosine\", features=\"description\")\n",
    "recommandation_content.fit(interactions_train, raw_recipes_subset)\n",
    "recipe = raw_recipes_subset.iloc[3][\"name\"]\n",
    "recommanded_ids = recommandation_content.predict(recipe, 5)\n",
    "\n",
    "print(f\"Recipe: {recipe}\")\n",
    "print('-----------------------------------------')\n",
    "print(f'Top 5 recipes by description similarity:')\n",
    "print('-----------------------------------------')\n",
    "for recommanded_id in recommanded_ids:\n",
    "    interaction = interactions_train.query(\"recipe_id == @recommanded_id\")\n",
    "    raw = raw_recipes_subset.query(\"id == @recommanded_id\")\n",
    "    print(f'Recipe id: {recommanded_id}')\n",
    "    print(f'Average rating: {interaction[\"rating\"].mean()}')\n",
    "    print(f'Recipe name: {raw[\"name\"].values[0]}')\n",
    "    print(f\"Recipe description: {raw['description'].values[0]}\")\n",
    "    print()"
   ]
  },
  {
   "cell_type": "code",
   "execution_count": null,
   "metadata": {},
   "outputs": [],
   "source": []
  }
 ],
 "metadata": {
  "kernelspec": {
   "display_name": "Python 3",
   "language": "python",
   "name": "python3"
  },
  "language_info": {
   "codemirror_mode": {
    "name": "ipython",
    "version": 3
   },
   "file_extension": ".py",
   "mimetype": "text/x-python",
   "name": "python",
   "nbconvert_exporter": "python",
   "pygments_lexer": "ipython3",
   "version": "3.9.13"
  },
  "orig_nbformat": 4
 },
 "nbformat": 4,
 "nbformat_minor": 2
}
